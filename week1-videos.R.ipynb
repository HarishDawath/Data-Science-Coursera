{
 "cells": [
  {
   "cell_type": "code",
   "execution_count": 1,
   "metadata": {
    "collapsed": true
   },
   "outputs": [],
   "source": [
    "if (!file.exists(\"data\")) {\n",
    "  dir.create(\"data\")\n",
    "}"
   ]
  },
  {
   "cell_type": "code",
   "execution_count": 2,
   "metadata": {
    "collapsed": false
   },
   "outputs": [
    {
     "data": {
      "text/html": [
       "FALSE"
      ],
      "text/latex": [
       "FALSE"
      ],
      "text/markdown": [
       "FALSE"
      ],
      "text/plain": [
       "[1] FALSE"
      ]
     },
     "execution_count": 2,
     "metadata": {},
     "output_type": "execute_result"
    }
   ],
   "source": [
    "file.exists(\"./data/cameras.csv\")"
   ]
  },
  {
   "cell_type": "code",
   "execution_count": 3,
   "metadata": {
    "collapsed": true
   },
   "outputs": [],
   "source": [
    "if(!file.exists(\"./data/cameras.csv\")) {\n",
    "    fileUrl <- \"https://data.baltimorecity.gov/api/views/dz54-2aru/rows.csv?accessType=DOWNLOAD\"\n",
    "    download.file(fileUrl, destfile = \"./data/cameras.csv\", method = \"curl\")\n",
    "    dateDownloaded <- date()    \n",
    "}"
   ]
  },
  {
   "cell_type": "code",
   "execution_count": 4,
   "metadata": {
    "collapsed": false
   },
   "outputs": [
    {
     "data": {
      "text/html": [
       "<table>\n",
       "<thead><tr><th></th><th scope=col>address</th><th scope=col>direction</th><th scope=col>street</th><th scope=col>crossStreet</th><th scope=col>intersection</th><th scope=col>Location.1</th></tr></thead>\n",
       "<tbody>\n",
       "\t<tr><th scope=row>1</th><td>S CATON AVE & BENSON AVE</td><td>N/B</td><td>Caton Ave</td><td>Benson Ave</td><td>Caton Ave & Benson Ave</td><td>(39.2693779962, -76.6688185297)</td></tr>\n",
       "\t<tr><th scope=row>2</th><td>S CATON AVE & BENSON AVE</td><td>S/B</td><td>Caton Ave</td><td>Benson Ave</td><td>Caton Ave & Benson Ave</td><td>(39.2693157898, -76.6689698176)</td></tr>\n",
       "\t<tr><th scope=row>3</th><td>WILKENS AVE & PINE HEIGHTS AVE</td><td>E/B</td><td>Wilkens Ave</td><td>Pine Heights</td><td>Wilkens Ave & Pine Heights</td><td>(39.2720252302, -76.676960806)</td></tr>\n",
       "\t<tr><th scope=row>4</th><td>THE ALAMEDA & E 33RD ST</td><td>S/B</td><td>The Alameda</td><td>33rd St</td><td>The Alameda  & 33rd St</td><td>(39.3285013141, -76.5953545714)</td></tr>\n",
       "\t<tr><th scope=row>5</th><td>E 33RD ST & THE ALAMEDA</td><td>E/B</td><td>E 33rd</td><td>The Alameda</td><td>E 33rd  & The Alameda</td><td>(39.3283410623, -76.5953594625)</td></tr>\n",
       "\t<tr><th scope=row>6</th><td>ERDMAN AVE & N MACON ST</td><td>E/B</td><td>Erdman</td><td>Macon St</td><td>Erdman  & Macon St</td><td>(39.3068045671, -76.5593167803)</td></tr>\n",
       "</tbody>\n",
       "</table>\n"
      ],
      "text/latex": [
       "\\begin{tabular}{r|llllll}\n",
       "  & address & direction & street & crossStreet & intersection & Location.1\\\\\n",
       "\\hline\n",
       "\t1 & S CATON AVE & BENSON AVE & N/B & Caton Ave & Benson Ave & Caton Ave & Benson Ave & (39.2693779962, -76.6688185297)\\\\\n",
       "\t2 & S CATON AVE & BENSON AVE & S/B & Caton Ave & Benson Ave & Caton Ave & Benson Ave & (39.2693157898, -76.6689698176)\\\\\n",
       "\t3 & WILKENS AVE & PINE HEIGHTS AVE & E/B & Wilkens Ave & Pine Heights & Wilkens Ave & Pine Heights & (39.2720252302, -76.676960806)\\\\\n",
       "\t4 & THE ALAMEDA & E 33RD ST & S/B & The Alameda & 33rd St & The Alameda  & 33rd St & (39.3285013141, -76.5953545714)\\\\\n",
       "\t5 & E 33RD ST & THE ALAMEDA & E/B & E 33rd & The Alameda & E 33rd  & The Alameda & (39.3283410623, -76.5953594625)\\\\\n",
       "\t6 & ERDMAN AVE & N MACON ST & E/B & Erdman & Macon St & Erdman  & Macon St & (39.3068045671, -76.5593167803)\\\\\n",
       "\\end{tabular}\n"
      ],
      "text/plain": [
       "                         address direction      street  crossStreet\n",
       "1       S CATON AVE & BENSON AVE       N/B   Caton Ave   Benson Ave\n",
       "2       S CATON AVE & BENSON AVE       S/B   Caton Ave   Benson Ave\n",
       "3 WILKENS AVE & PINE HEIGHTS AVE       E/B Wilkens Ave Pine Heights\n",
       "4        THE ALAMEDA & E 33RD ST       S/B The Alameda      33rd St\n",
       "5        E 33RD ST & THE ALAMEDA       E/B      E 33rd  The Alameda\n",
       "6        ERDMAN AVE & N MACON ST       E/B      Erdman     Macon St\n",
       "                intersection                      Location.1\n",
       "1     Caton Ave & Benson Ave (39.2693779962, -76.6688185297)\n",
       "2     Caton Ave & Benson Ave (39.2693157898, -76.6689698176)\n",
       "3 Wilkens Ave & Pine Heights  (39.2720252302, -76.676960806)\n",
       "4     The Alameda  & 33rd St (39.3285013141, -76.5953545714)\n",
       "5      E 33rd  & The Alameda (39.3283410623, -76.5953594625)\n",
       "6         Erdman  & Macon St (39.3068045671, -76.5593167803)"
      ]
     },
     "execution_count": 4,
     "metadata": {},
     "output_type": "execute_result"
    }
   ],
   "source": [
    "cameraData <- read.table(\"./data/cameras.csv\",sep=\",\",header=TRUE)\n",
    "head(cameraData)"
   ]
  },
  {
   "cell_type": "markdown",
   "metadata": {},
   "source": [
    "----"
   ]
  },
  {
   "cell_type": "code",
   "execution_count": 5,
   "metadata": {
    "collapsed": true
   },
   "outputs": [],
   "source": [
    "library(XML)\n",
    "fileurl <- \"http://www.w3schools.com/xml/simple.xml\"\n",
    "doc <- xmlTreeParse(fileurl,useInternal=TRUE)\n",
    "rootNode<-xmlRoot(doc)"
   ]
  },
  {
   "cell_type": "code",
   "execution_count": 6,
   "metadata": {
    "collapsed": false
   },
   "outputs": [
    {
     "data": {
      "text/html": [
       "'breakfast_menu'"
      ],
      "text/latex": [
       "'breakfast_menu'"
      ],
      "text/markdown": [
       "'breakfast_menu'"
      ],
      "text/plain": [
       "[1] \"breakfast_menu\""
      ]
     },
     "execution_count": 6,
     "metadata": {},
     "output_type": "execute_result"
    }
   ],
   "source": [
    "xmlName(rootNode)"
   ]
  },
  {
   "cell_type": "code",
   "execution_count": 7,
   "metadata": {
    "collapsed": false
   },
   "outputs": [
    {
     "data": {
      "text/plain": [
       "<name>Belgian Waffles</name> "
      ]
     },
     "execution_count": 7,
     "metadata": {},
     "output_type": "execute_result"
    }
   ],
   "source": [
    "rootNode[[1]][[1]]"
   ]
  },
  {
   "cell_type": "code",
   "execution_count": 8,
   "metadata": {
    "collapsed": false
   },
   "outputs": [
    {
     "data": {
      "text/html": [
       "<dl class=dl-horizontal>\n",
       "\t<dt>food</dt>\n",
       "\t\t<dd>'Belgian Waffles$5.95Two of our famous Belgian Waffles with plenty of real maple syrup650'</dd>\n",
       "\t<dt>food</dt>\n",
       "\t\t<dd>'Strawberry Belgian Waffles$7.95Light Belgian waffles covered with strawberries and whipped cream900'</dd>\n",
       "\t<dt>food</dt>\n",
       "\t\t<dd>'Berry-Berry Belgian Waffles$8.95Light Belgian waffles covered with an assortment of fresh berries and whipped cream900'</dd>\n",
       "\t<dt>food</dt>\n",
       "\t\t<dd>'French Toast$4.50Thick slices made from our homemade sourdough bread600'</dd>\n",
       "\t<dt>food</dt>\n",
       "\t\t<dd>'Homestyle Breakfast$6.95Two eggs, bacon or sausage, toast, and our ever-popular hash browns950'</dd>\n",
       "</dl>\n"
      ],
      "text/latex": [
       "\\begin{description*}\n",
       "\\item[food] 'Belgian Waffles$5.95Two of our famous Belgian Waffles with plenty of real maple syrup650'\n",
       "\\item[food] 'Strawberry Belgian Waffles$7.95Light Belgian waffles covered with strawberries and whipped cream900'\n",
       "\\item[food] 'Berry-Berry Belgian Waffles$8.95Light Belgian waffles covered with an assortment of fresh berries and whipped cream900'\n",
       "\\item[food] 'French Toast$4.50Thick slices made from our homemade sourdough bread600'\n",
       "\\item[food] 'Homestyle Breakfast$6.95Two eggs, bacon or sausage, toast, and our ever-popular hash browns950'\n",
       "\\end{description*}\n"
      ],
      "text/markdown": [
       "food\n",
       ":   'Belgian Waffles$5.95Two of our famous Belgian Waffles with plenty of real maple syrup650'food\n",
       ":   'Strawberry Belgian Waffles$7.95Light Belgian waffles covered with strawberries and whipped cream900'food\n",
       ":   'Berry-Berry Belgian Waffles$8.95Light Belgian waffles covered with an assortment of fresh berries and whipped cream900'food\n",
       ":   'French Toast$4.50Thick slices made from our homemade sourdough bread600'food\n",
       ":   'Homestyle Breakfast$6.95Two eggs, bacon or sausage, toast, and our ever-popular hash browns950'\n",
       "\n"
      ],
      "text/plain": [
       "                                                                                                                    food \n",
       "                              \"Belgian Waffles$5.95Two of our famous Belgian Waffles with plenty of real maple syrup650\" \n",
       "                                                                                                                    food \n",
       "                   \"Strawberry Belgian Waffles$7.95Light Belgian waffles covered with strawberries and whipped cream900\" \n",
       "                                                                                                                    food \n",
       "\"Berry-Berry Belgian Waffles$8.95Light Belgian waffles covered with an assortment of fresh berries and whipped cream900\" \n",
       "                                                                                                                    food \n",
       "                                               \"French Toast$4.50Thick slices made from our homemade sourdough bread600\" \n",
       "                                                                                                                    food \n",
       "                        \"Homestyle Breakfast$6.95Two eggs, bacon or sausage, toast, and our ever-popular hash browns950\" "
      ]
     },
     "execution_count": 8,
     "metadata": {},
     "output_type": "execute_result"
    }
   ],
   "source": [
    "xmlSApply(rootNode,xmlValue)"
   ]
  },
  {
   "cell_type": "code",
   "execution_count": 9,
   "metadata": {
    "collapsed": false
   },
   "outputs": [
    {
     "data": {
      "text/html": [
       "<ol class=list-inline>\n",
       "\t<li>'Belgian Waffles'</li>\n",
       "\t<li>'Strawberry Belgian Waffles'</li>\n",
       "\t<li>'Berry-Berry Belgian Waffles'</li>\n",
       "\t<li>'French Toast'</li>\n",
       "\t<li>'Homestyle Breakfast'</li>\n",
       "</ol>\n"
      ],
      "text/latex": [
       "\\begin{enumerate*}\n",
       "\\item 'Belgian Waffles'\n",
       "\\item 'Strawberry Belgian Waffles'\n",
       "\\item 'Berry-Berry Belgian Waffles'\n",
       "\\item 'French Toast'\n",
       "\\item 'Homestyle Breakfast'\n",
       "\\end{enumerate*}\n"
      ],
      "text/markdown": [
       "1. 'Belgian Waffles'\n",
       "2. 'Strawberry Belgian Waffles'\n",
       "3. 'Berry-Berry Belgian Waffles'\n",
       "4. 'French Toast'\n",
       "5. 'Homestyle Breakfast'\n",
       "\n",
       "\n"
      ],
      "text/plain": [
       "[1] \"Belgian Waffles\"             \"Strawberry Belgian Waffles\" \n",
       "[3] \"Berry-Berry Belgian Waffles\" \"French Toast\"               \n",
       "[5] \"Homestyle Breakfast\"        "
      ]
     },
     "execution_count": 9,
     "metadata": {},
     "output_type": "execute_result"
    }
   ],
   "source": [
    "xpathSApply(rootNode,\"//name\",xmlValue)"
   ]
  },
  {
   "cell_type": "markdown",
   "metadata": {},
   "source": [
    "----"
   ]
  },
  {
   "cell_type": "code",
   "execution_count": 12,
   "metadata": {
    "collapsed": false
   },
   "outputs": [
    {
     "name": "stderr",
     "output_type": "stream",
     "text": [
      "\n",
      "Attaching package: 'dplyr'\n",
      "\n",
      "The following object is masked from 'package:stats':\n",
      "\n",
      "    filter\n",
      "\n",
      "The following objects are masked from 'package:base':\n",
      "\n",
      "    intersect, setdiff, setequal, union\n",
      "\n"
     ]
    }
   ],
   "source": [
    "library(jsonlite)\n",
    "library(dplyr)\n",
    "jsondata<-fromJSON(\"https://api.github.com/users/theofpa/repos\")"
   ]
  },
  {
   "cell_type": "code",
   "execution_count": 16,
   "metadata": {
    "collapsed": false
   },
   "outputs": [
    {
     "data": {
      "text/html": [
       "<table>\n",
       "<thead><tr><th></th><th scope=col>id</th><th scope=col>name</th><th scope=col>full_name</th><th scope=col>owner</th><th scope=col>private</th><th scope=col>html_url</th><th scope=col>description</th><th scope=col>fork</th><th scope=col>url</th><th scope=col>forks_url</th><th scope=col>ellip.h</th><th scope=col>has_downloads</th><th scope=col>has_wiki</th><th scope=col>has_pages</th><th scope=col>forks_count</th><th scope=col>mirror_url</th><th scope=col>open_issues_count</th><th scope=col>forks</th><th scope=col>open_issues</th><th scope=col>watchers</th><th scope=col>default_branch</th></tr></thead>\n",
       "<tbody>\n",
       "\t<tr><th scope=row>1</th><td>13485543</td><td>apache2</td><td>theofpa/apache2</td><td>theofpa</td><td>668063</td><td>https://avatars.githubusercontent.com/u/668063?v=3</td><td></td><td>https://api.github.com/users/theofpa</td><td>https://github.com/theofpa</td><td>https://api.github.com/users/theofpa/followers</td><td>https://api.github.com/users/theofpa/following{/other_user}</td><td>https://api.github.com/users/theofpa/gists{/gist_id}</td><td>https://api.github.com/users/theofpa/starred{/owner}{/repo}</td><td>https://api.github.com/users/theofpa/subscriptions</td><td>https://api.github.com/users/theofpa/orgs</td><td>https://api.github.com/users/theofpa/repos</td><td>https://api.github.com/users/theofpa/events{/privacy}</td><td>https://api.github.com/users/theofpa/received_events</td><td>User</td><td>FALSE</td><td>FALSE</td><td>https://github.com/theofpa/apache2</td><td>Development repository for Opscode Cookbook apache2</td><td>TRUE</td><td>https://api.github.com/repos/theofpa/apache2</td><td>https://api.github.com/repos/theofpa/apache2/forks</td><td><U+22EF></td><td>TRUE</td><td>FALSE</td><td>FALSE</td><td>0</td><td>NA</td><td>0</td><td>0</td><td>0</td><td>0</td><td>master</td></tr>\n",
       "\t<tr><th scope=row>2</th><td>18644599</td><td>blog</td><td>theofpa/blog</td><td>theofpa</td><td>668063</td><td>https://avatars.githubusercontent.com/u/668063?v=3</td><td></td><td>https://api.github.com/users/theofpa</td><td>https://github.com/theofpa</td><td>https://api.github.com/users/theofpa/followers</td><td>https://api.github.com/users/theofpa/following{/other_user}</td><td>https://api.github.com/users/theofpa/gists{/gist_id}</td><td>https://api.github.com/users/theofpa/starred{/owner}{/repo}</td><td>https://api.github.com/users/theofpa/subscriptions</td><td>https://api.github.com/users/theofpa/orgs</td><td>https://api.github.com/users/theofpa/repos</td><td>https://api.github.com/users/theofpa/events{/privacy}</td><td>https://api.github.com/users/theofpa/received_events</td><td>User</td><td>FALSE</td><td>FALSE</td><td>https://github.com/theofpa/blog</td><td>Sample dropwizard blog</td><td>FALSE</td><td>https://api.github.com/repos/theofpa/blog</td><td>https://api.github.com/repos/theofpa/blog/forks</td><td><U+22EF></td><td>TRUE</td><td>TRUE</td><td>FALSE</td><td>0</td><td>NA</td><td>0</td><td>0</td><td>0</td><td>0</td><td>master</td></tr>\n",
       "\t<tr><th scope=row>3</th><td>12512312</td><td>chef-aem</td><td>theofpa/chef-aem</td><td>theofpa</td><td>668063</td><td>https://avatars.githubusercontent.com/u/668063?v=3</td><td></td><td>https://api.github.com/users/theofpa</td><td>https://github.com/theofpa</td><td>https://api.github.com/users/theofpa/followers</td><td>https://api.github.com/users/theofpa/following{/other_user}</td><td>https://api.github.com/users/theofpa/gists{/gist_id}</td><td>https://api.github.com/users/theofpa/starred{/owner}{/repo}</td><td>https://api.github.com/users/theofpa/subscriptions</td><td>https://api.github.com/users/theofpa/orgs</td><td>https://api.github.com/users/theofpa/repos</td><td>https://api.github.com/users/theofpa/events{/privacy}</td><td>https://api.github.com/users/theofpa/received_events</td><td>User</td><td>FALSE</td><td>FALSE</td><td>https://github.com/theofpa/chef-aem</td><td></td><td>FALSE</td><td>https://api.github.com/repos/theofpa/chef-aem</td><td>https://api.github.com/repos/theofpa/chef-aem/forks</td><td><U+22EF></td><td>TRUE</td><td>TRUE</td><td>FALSE</td><td>2</td><td>NA</td><td>0</td><td>2</td><td>0</td><td>5</td><td>master</td></tr>\n",
       "\t<tr><th scope=row>4</th><td>19507481</td><td>courses</td><td>theofpa/courses</td><td>theofpa</td><td>668063</td><td>https://avatars.githubusercontent.com/u/668063?v=3</td><td></td><td>https://api.github.com/users/theofpa</td><td>https://github.com/theofpa</td><td>https://api.github.com/users/theofpa/followers</td><td>https://api.github.com/users/theofpa/following{/other_user}</td><td>https://api.github.com/users/theofpa/gists{/gist_id}</td><td>https://api.github.com/users/theofpa/starred{/owner}{/repo}</td><td>https://api.github.com/users/theofpa/subscriptions</td><td>https://api.github.com/users/theofpa/orgs</td><td>https://api.github.com/users/theofpa/repos</td><td>https://api.github.com/users/theofpa/events{/privacy}</td><td>https://api.github.com/users/theofpa/received_events</td><td>User</td><td>FALSE</td><td>FALSE</td><td>https://github.com/theofpa/courses</td><td>Course materials for the Data Science Specialization: https://www.coursera.org/specialization/jhudatascience/1</td><td>TRUE</td><td>https://api.github.com/repos/theofpa/courses</td><td>https://api.github.com/repos/theofpa/courses/forks</td><td><U+22EF></td><td>TRUE</td><td>TRUE</td><td>TRUE</td><td>1</td><td>NA</td><td>0</td><td>1</td><td>0</td><td>0</td><td>master</td></tr>\n",
       "\t<tr><th scope=row>5</th><td>18534597</td><td>datascience</td><td>theofpa/datascience</td><td>theofpa</td><td>668063</td><td>https://avatars.githubusercontent.com/u/668063?v=3</td><td></td><td>https://api.github.com/users/theofpa</td><td>https://github.com/theofpa</td><td>https://api.github.com/users/theofpa/followers</td><td>https://api.github.com/users/theofpa/following{/other_user}</td><td>https://api.github.com/users/theofpa/gists{/gist_id}</td><td>https://api.github.com/users/theofpa/starred{/owner}{/repo}</td><td>https://api.github.com/users/theofpa/subscriptions</td><td>https://api.github.com/users/theofpa/orgs</td><td>https://api.github.com/users/theofpa/repos</td><td>https://api.github.com/users/theofpa/events{/privacy}</td><td>https://api.github.com/users/theofpa/received_events</td><td>User</td><td>FALSE</td><td>FALSE</td><td>https://github.com/theofpa/datascience</td><td></td><td>FALSE</td><td>https://api.github.com/repos/theofpa/datascience</td><td>https://api.github.com/repos/theofpa/datascience/forks</td><td><U+22EF></td><td>TRUE</td><td>TRUE</td><td>TRUE</td><td>168</td><td>NA</td><td>0</td><td>168</td><td>0</td><td>41</td><td>master</td></tr>\n",
       "\t<tr><th scope=row>6</th><td>21441212</td><td>datasci_course_material</td><td>theofpa/datasci_course_material</td><td>theofpa</td><td>668063</td><td>https://avatars.githubusercontent.com/u/668063?v=3</td><td></td><td>https://api.github.com/users/theofpa</td><td>https://github.com/theofpa</td><td>https://api.github.com/users/theofpa/followers</td><td>https://api.github.com/users/theofpa/following{/other_user}</td><td>https://api.github.com/users/theofpa/gists{/gist_id}</td><td>https://api.github.com/users/theofpa/starred{/owner}{/repo}</td><td>https://api.github.com/users/theofpa/subscriptions</td><td>https://api.github.com/users/theofpa/orgs</td><td>https://api.github.com/users/theofpa/repos</td><td>https://api.github.com/users/theofpa/events{/privacy}</td><td>https://api.github.com/users/theofpa/received_events</td><td>User</td><td>FALSE</td><td>FALSE</td><td>https://github.com/theofpa/datasci_course_material</td><td></td><td>FALSE</td><td>https://api.github.com/repos/theofpa/datasci_course_material</td><td>https://api.github.com/repos/theofpa/datasci_course_material/forks</td><td><U+22EF></td><td>TRUE</td><td>TRUE</td><td>FALSE</td><td>0</td><td>NA</td><td>0</td><td>0</td><td>0</td><td>0</td><td>master</td></tr>\n",
       "</tbody>\n",
       "</table>\n"
      ],
      "text/latex": [
       "\\begin{tabular}{r|lllllllllllllllllllllllllllllllllllllllllllllllllllllllllllllllllll}\n",
       "  & id & name & full_name & owner & private & html_url & description & fork & url & forks_url & ellip.h & has_downloads & has_wiki & has_pages & forks_count & mirror_url & open_issues_count & forks & open_issues & watchers & default_branch\\\\\n",
       "\\hline\n",
       "\t1 & 13485543 & apache2 & theofpa/apache2 & theofpa & 668063 & https://avatars.githubusercontent.com/u/668063?v=3 &  & https://api.github.com/users/theofpa & https://github.com/theofpa & https://api.github.com/users/theofpa/followers & https://api.github.com/users/theofpa/following{/other_user} & https://api.github.com/users/theofpa/gists{/gist_id} & https://api.github.com/users/theofpa/starred{/owner}{/repo} & https://api.github.com/users/theofpa/subscriptions & https://api.github.com/users/theofpa/orgs & https://api.github.com/users/theofpa/repos & https://api.github.com/users/theofpa/events{/privacy} & https://api.github.com/users/theofpa/received_events & User & FALSE & FALSE & https://github.com/theofpa/apache2 & Development repository for Opscode Cookbook apache2 & TRUE & https://api.github.com/repos/theofpa/apache2 & https://api.github.com/repos/theofpa/apache2/forks & <U+22EF> & TRUE & FALSE & FALSE & 0 & NA & 0 & 0 & 0 & 0 & master\\\\\n",
       "\t2 & 18644599 & blog & theofpa/blog & theofpa & 668063 & https://avatars.githubusercontent.com/u/668063?v=3 &  & https://api.github.com/users/theofpa & https://github.com/theofpa & https://api.github.com/users/theofpa/followers & https://api.github.com/users/theofpa/following{/other_user} & https://api.github.com/users/theofpa/gists{/gist_id} & https://api.github.com/users/theofpa/starred{/owner}{/repo} & https://api.github.com/users/theofpa/subscriptions & https://api.github.com/users/theofpa/orgs & https://api.github.com/users/theofpa/repos & https://api.github.com/users/theofpa/events{/privacy} & https://api.github.com/users/theofpa/received_events & User & FALSE & FALSE & https://github.com/theofpa/blog & Sample dropwizard blog & FALSE & https://api.github.com/repos/theofpa/blog & https://api.github.com/repos/theofpa/blog/forks & <U+22EF> & TRUE & TRUE & FALSE & 0 & NA & 0 & 0 & 0 & 0 & master\\\\\n",
       "\t3 & 12512312 & chef-aem & theofpa/chef-aem & theofpa & 668063 & https://avatars.githubusercontent.com/u/668063?v=3 &  & https://api.github.com/users/theofpa & https://github.com/theofpa & https://api.github.com/users/theofpa/followers & https://api.github.com/users/theofpa/following{/other_user} & https://api.github.com/users/theofpa/gists{/gist_id} & https://api.github.com/users/theofpa/starred{/owner}{/repo} & https://api.github.com/users/theofpa/subscriptions & https://api.github.com/users/theofpa/orgs & https://api.github.com/users/theofpa/repos & https://api.github.com/users/theofpa/events{/privacy} & https://api.github.com/users/theofpa/received_events & User & FALSE & FALSE & https://github.com/theofpa/chef-aem &  & FALSE & https://api.github.com/repos/theofpa/chef-aem & https://api.github.com/repos/theofpa/chef-aem/forks & <U+22EF> & TRUE & TRUE & FALSE & 2 & NA & 0 & 2 & 0 & 5 & master\\\\\n",
       "\t4 & 19507481 & courses & theofpa/courses & theofpa & 668063 & https://avatars.githubusercontent.com/u/668063?v=3 &  & https://api.github.com/users/theofpa & https://github.com/theofpa & https://api.github.com/users/theofpa/followers & https://api.github.com/users/theofpa/following{/other_user} & https://api.github.com/users/theofpa/gists{/gist_id} & https://api.github.com/users/theofpa/starred{/owner}{/repo} & https://api.github.com/users/theofpa/subscriptions & https://api.github.com/users/theofpa/orgs & https://api.github.com/users/theofpa/repos & https://api.github.com/users/theofpa/events{/privacy} & https://api.github.com/users/theofpa/received_events & User & FALSE & FALSE & https://github.com/theofpa/courses & Course materials for the Data Science Specialization: https://www.coursera.org/specialization/jhudatascience/1 & TRUE & https://api.github.com/repos/theofpa/courses & https://api.github.com/repos/theofpa/courses/forks & <U+22EF> & TRUE & TRUE & TRUE & 1 & NA & 0 & 1 & 0 & 0 & master\\\\\n",
       "\t5 & 18534597 & datascience & theofpa/datascience & theofpa & 668063 & https://avatars.githubusercontent.com/u/668063?v=3 &  & https://api.github.com/users/theofpa & https://github.com/theofpa & https://api.github.com/users/theofpa/followers & https://api.github.com/users/theofpa/following{/other_user} & https://api.github.com/users/theofpa/gists{/gist_id} & https://api.github.com/users/theofpa/starred{/owner}{/repo} & https://api.github.com/users/theofpa/subscriptions & https://api.github.com/users/theofpa/orgs & https://api.github.com/users/theofpa/repos & https://api.github.com/users/theofpa/events{/privacy} & https://api.github.com/users/theofpa/received_events & User & FALSE & FALSE & https://github.com/theofpa/datascience &  & FALSE & https://api.github.com/repos/theofpa/datascience & https://api.github.com/repos/theofpa/datascience/forks & <U+22EF> & TRUE & TRUE & TRUE & 168 & NA & 0 & 168 & 0 & 41 & master\\\\\n",
       "\t6 & 21441212 & datasci_course_material & theofpa/datasci_course_material & theofpa & 668063 & https://avatars.githubusercontent.com/u/668063?v=3 &  & https://api.github.com/users/theofpa & https://github.com/theofpa & https://api.github.com/users/theofpa/followers & https://api.github.com/users/theofpa/following{/other_user} & https://api.github.com/users/theofpa/gists{/gist_id} & https://api.github.com/users/theofpa/starred{/owner}{/repo} & https://api.github.com/users/theofpa/subscriptions & https://api.github.com/users/theofpa/orgs & https://api.github.com/users/theofpa/repos & https://api.github.com/users/theofpa/events{/privacy} & https://api.github.com/users/theofpa/received_events & User & FALSE & FALSE & https://github.com/theofpa/datasci_course_material &  & FALSE & https://api.github.com/repos/theofpa/datasci_course_material & https://api.github.com/repos/theofpa/datasci_course_material/forks & <U+22EF> & TRUE & TRUE & FALSE & 0 & NA & 0 & 0 & 0 & 0 & master\\\\\n",
       "\\end{tabular}\n"
      ],
      "text/plain": [
       "        id                    name                       full_name owner.login\n",
       "1 13485543                 apache2                 theofpa/apache2     theofpa\n",
       "2 18644599                    blog                    theofpa/blog     theofpa\n",
       "3 12512312                chef-aem                theofpa/chef-aem     theofpa\n",
       "4 19507481                 courses                 theofpa/courses     theofpa\n",
       "5 18534597             datascience             theofpa/datascience     theofpa\n",
       "6 21441212 datasci_course_material theofpa/datasci_course_material     theofpa\n",
       "  owner.id                                   owner.avatar_url owner.gravatar_id\n",
       "1   668063 https://avatars.githubusercontent.com/u/668063?v=3                  \n",
       "2   668063 https://avatars.githubusercontent.com/u/668063?v=3                  \n",
       "3   668063 https://avatars.githubusercontent.com/u/668063?v=3                  \n",
       "4   668063 https://avatars.githubusercontent.com/u/668063?v=3                  \n",
       "5   668063 https://avatars.githubusercontent.com/u/668063?v=3                  \n",
       "6   668063 https://avatars.githubusercontent.com/u/668063?v=3                  \n",
       "                             owner.url             owner.html_url\n",
       "1 https://api.github.com/users/theofpa https://github.com/theofpa\n",
       "2 https://api.github.com/users/theofpa https://github.com/theofpa\n",
       "3 https://api.github.com/users/theofpa https://github.com/theofpa\n",
       "4 https://api.github.com/users/theofpa https://github.com/theofpa\n",
       "5 https://api.github.com/users/theofpa https://github.com/theofpa\n",
       "6 https://api.github.com/users/theofpa https://github.com/theofpa\n",
       "                             owner.followers_url\n",
       "1 https://api.github.com/users/theofpa/followers\n",
       "2 https://api.github.com/users/theofpa/followers\n",
       "3 https://api.github.com/users/theofpa/followers\n",
       "4 https://api.github.com/users/theofpa/followers\n",
       "5 https://api.github.com/users/theofpa/followers\n",
       "6 https://api.github.com/users/theofpa/followers\n",
       "                                          owner.following_url\n",
       "1 https://api.github.com/users/theofpa/following{/other_user}\n",
       "2 https://api.github.com/users/theofpa/following{/other_user}\n",
       "3 https://api.github.com/users/theofpa/following{/other_user}\n",
       "4 https://api.github.com/users/theofpa/following{/other_user}\n",
       "5 https://api.github.com/users/theofpa/following{/other_user}\n",
       "6 https://api.github.com/users/theofpa/following{/other_user}\n",
       "                                       owner.gists_url\n",
       "1 https://api.github.com/users/theofpa/gists{/gist_id}\n",
       "2 https://api.github.com/users/theofpa/gists{/gist_id}\n",
       "3 https://api.github.com/users/theofpa/gists{/gist_id}\n",
       "4 https://api.github.com/users/theofpa/gists{/gist_id}\n",
       "5 https://api.github.com/users/theofpa/gists{/gist_id}\n",
       "6 https://api.github.com/users/theofpa/gists{/gist_id}\n",
       "                                            owner.starred_url\n",
       "1 https://api.github.com/users/theofpa/starred{/owner}{/repo}\n",
       "2 https://api.github.com/users/theofpa/starred{/owner}{/repo}\n",
       "3 https://api.github.com/users/theofpa/starred{/owner}{/repo}\n",
       "4 https://api.github.com/users/theofpa/starred{/owner}{/repo}\n",
       "5 https://api.github.com/users/theofpa/starred{/owner}{/repo}\n",
       "6 https://api.github.com/users/theofpa/starred{/owner}{/repo}\n",
       "                             owner.subscriptions_url\n",
       "1 https://api.github.com/users/theofpa/subscriptions\n",
       "2 https://api.github.com/users/theofpa/subscriptions\n",
       "3 https://api.github.com/users/theofpa/subscriptions\n",
       "4 https://api.github.com/users/theofpa/subscriptions\n",
       "5 https://api.github.com/users/theofpa/subscriptions\n",
       "6 https://api.github.com/users/theofpa/subscriptions\n",
       "                    owner.organizations_url\n",
       "1 https://api.github.com/users/theofpa/orgs\n",
       "2 https://api.github.com/users/theofpa/orgs\n",
       "3 https://api.github.com/users/theofpa/orgs\n",
       "4 https://api.github.com/users/theofpa/orgs\n",
       "5 https://api.github.com/users/theofpa/orgs\n",
       "6 https://api.github.com/users/theofpa/orgs\n",
       "                             owner.repos_url\n",
       "1 https://api.github.com/users/theofpa/repos\n",
       "2 https://api.github.com/users/theofpa/repos\n",
       "3 https://api.github.com/users/theofpa/repos\n",
       "4 https://api.github.com/users/theofpa/repos\n",
       "5 https://api.github.com/users/theofpa/repos\n",
       "6 https://api.github.com/users/theofpa/repos\n",
       "                                       owner.events_url\n",
       "1 https://api.github.com/users/theofpa/events{/privacy}\n",
       "2 https://api.github.com/users/theofpa/events{/privacy}\n",
       "3 https://api.github.com/users/theofpa/events{/privacy}\n",
       "4 https://api.github.com/users/theofpa/events{/privacy}\n",
       "5 https://api.github.com/users/theofpa/events{/privacy}\n",
       "6 https://api.github.com/users/theofpa/events{/privacy}\n",
       "                             owner.received_events_url owner.type\n",
       "1 https://api.github.com/users/theofpa/received_events       User\n",
       "2 https://api.github.com/users/theofpa/received_events       User\n",
       "3 https://api.github.com/users/theofpa/received_events       User\n",
       "4 https://api.github.com/users/theofpa/received_events       User\n",
       "5 https://api.github.com/users/theofpa/received_events       User\n",
       "6 https://api.github.com/users/theofpa/received_events       User\n",
       "  owner.site_admin private                                           html_url\n",
       "1            FALSE   FALSE                 https://github.com/theofpa/apache2\n",
       "2            FALSE   FALSE                    https://github.com/theofpa/blog\n",
       "3            FALSE   FALSE                https://github.com/theofpa/chef-aem\n",
       "4            FALSE   FALSE                 https://github.com/theofpa/courses\n",
       "5            FALSE   FALSE             https://github.com/theofpa/datascience\n",
       "6            FALSE   FALSE https://github.com/theofpa/datasci_course_material\n",
       "                                                                                                     description\n",
       "1                                                            Development repository for Opscode Cookbook apache2\n",
       "2                                                                                         Sample dropwizard blog\n",
       "3                                                                                                               \n",
       "4 Course materials for the Data Science Specialization: https://www.coursera.org/specialization/jhudatascience/1\n",
       "5                                                                                                               \n",
       "6                                                                                                               \n",
       "   fork                                                          url\n",
       "1  TRUE                 https://api.github.com/repos/theofpa/apache2\n",
       "2 FALSE                    https://api.github.com/repos/theofpa/blog\n",
       "3 FALSE                https://api.github.com/repos/theofpa/chef-aem\n",
       "4  TRUE                 https://api.github.com/repos/theofpa/courses\n",
       "5 FALSE             https://api.github.com/repos/theofpa/datascience\n",
       "6 FALSE https://api.github.com/repos/theofpa/datasci_course_material\n",
       "                                                           forks_url\n",
       "1                 https://api.github.com/repos/theofpa/apache2/forks\n",
       "2                    https://api.github.com/repos/theofpa/blog/forks\n",
       "3                https://api.github.com/repos/theofpa/chef-aem/forks\n",
       "4                 https://api.github.com/repos/theofpa/courses/forks\n",
       "5             https://api.github.com/repos/theofpa/datascience/forks\n",
       "6 https://api.github.com/repos/theofpa/datasci_course_material/forks\n",
       "                                                                    keys_url\n",
       "1                 https://api.github.com/repos/theofpa/apache2/keys{/key_id}\n",
       "2                    https://api.github.com/repos/theofpa/blog/keys{/key_id}\n",
       "3                https://api.github.com/repos/theofpa/chef-aem/keys{/key_id}\n",
       "4                 https://api.github.com/repos/theofpa/courses/keys{/key_id}\n",
       "5             https://api.github.com/repos/theofpa/datascience/keys{/key_id}\n",
       "6 https://api.github.com/repos/theofpa/datasci_course_material/keys{/key_id}\n",
       "                                                                          collaborators_url\n",
       "1                 https://api.github.com/repos/theofpa/apache2/collaborators{/collaborator}\n",
       "2                    https://api.github.com/repos/theofpa/blog/collaborators{/collaborator}\n",
       "3                https://api.github.com/repos/theofpa/chef-aem/collaborators{/collaborator}\n",
       "4                 https://api.github.com/repos/theofpa/courses/collaborators{/collaborator}\n",
       "5             https://api.github.com/repos/theofpa/datascience/collaborators{/collaborator}\n",
       "6 https://api.github.com/repos/theofpa/datasci_course_material/collaborators{/collaborator}\n",
       "                                                           teams_url\n",
       "1                 https://api.github.com/repos/theofpa/apache2/teams\n",
       "2                    https://api.github.com/repos/theofpa/blog/teams\n",
       "3                https://api.github.com/repos/theofpa/chef-aem/teams\n",
       "4                 https://api.github.com/repos/theofpa/courses/teams\n",
       "5             https://api.github.com/repos/theofpa/datascience/teams\n",
       "6 https://api.github.com/repos/theofpa/datasci_course_material/teams\n",
       "                                                           hooks_url\n",
       "1                 https://api.github.com/repos/theofpa/apache2/hooks\n",
       "2                    https://api.github.com/repos/theofpa/blog/hooks\n",
       "3                https://api.github.com/repos/theofpa/chef-aem/hooks\n",
       "4                 https://api.github.com/repos/theofpa/courses/hooks\n",
       "5             https://api.github.com/repos/theofpa/datascience/hooks\n",
       "6 https://api.github.com/repos/theofpa/datasci_course_material/hooks\n",
       "                                                                     issue_events_url\n",
       "1                 https://api.github.com/repos/theofpa/apache2/issues/events{/number}\n",
       "2                    https://api.github.com/repos/theofpa/blog/issues/events{/number}\n",
       "3                https://api.github.com/repos/theofpa/chef-aem/issues/events{/number}\n",
       "4                 https://api.github.com/repos/theofpa/courses/issues/events{/number}\n",
       "5             https://api.github.com/repos/theofpa/datascience/issues/events{/number}\n",
       "6 https://api.github.com/repos/theofpa/datasci_course_material/issues/events{/number}\n",
       "                                                           events_url\n",
       "1                 https://api.github.com/repos/theofpa/apache2/events\n",
       "2                    https://api.github.com/repos/theofpa/blog/events\n",
       "3                https://api.github.com/repos/theofpa/chef-aem/events\n",
       "4                 https://api.github.com/repos/theofpa/courses/events\n",
       "5             https://api.github.com/repos/theofpa/datascience/events\n",
       "6 https://api.github.com/repos/theofpa/datasci_course_material/events\n",
       "                                                                  assignees_url\n",
       "1                 https://api.github.com/repos/theofpa/apache2/assignees{/user}\n",
       "2                    https://api.github.com/repos/theofpa/blog/assignees{/user}\n",
       "3                https://api.github.com/repos/theofpa/chef-aem/assignees{/user}\n",
       "4                 https://api.github.com/repos/theofpa/courses/assignees{/user}\n",
       "5             https://api.github.com/repos/theofpa/datascience/assignees{/user}\n",
       "6 https://api.github.com/repos/theofpa/datasci_course_material/assignees{/user}\n",
       "                                                                    branches_url\n",
       "1                 https://api.github.com/repos/theofpa/apache2/branches{/branch}\n",
       "2                    https://api.github.com/repos/theofpa/blog/branches{/branch}\n",
       "3                https://api.github.com/repos/theofpa/chef-aem/branches{/branch}\n",
       "4                 https://api.github.com/repos/theofpa/courses/branches{/branch}\n",
       "5             https://api.github.com/repos/theofpa/datascience/branches{/branch}\n",
       "6 https://api.github.com/repos/theofpa/datasci_course_material/branches{/branch}\n",
       "                                                           tags_url\n",
       "1                 https://api.github.com/repos/theofpa/apache2/tags\n",
       "2                    https://api.github.com/repos/theofpa/blog/tags\n",
       "3                https://api.github.com/repos/theofpa/chef-aem/tags\n",
       "4                 https://api.github.com/repos/theofpa/courses/tags\n",
       "5             https://api.github.com/repos/theofpa/datascience/tags\n",
       "6 https://api.github.com/repos/theofpa/datasci_course_material/tags\n",
       "                                                                     blobs_url\n",
       "1                 https://api.github.com/repos/theofpa/apache2/git/blobs{/sha}\n",
       "2                    https://api.github.com/repos/theofpa/blog/git/blobs{/sha}\n",
       "3                https://api.github.com/repos/theofpa/chef-aem/git/blobs{/sha}\n",
       "4                 https://api.github.com/repos/theofpa/courses/git/blobs{/sha}\n",
       "5             https://api.github.com/repos/theofpa/datascience/git/blobs{/sha}\n",
       "6 https://api.github.com/repos/theofpa/datasci_course_material/git/blobs{/sha}\n",
       "                                                                 git_tags_url\n",
       "1                 https://api.github.com/repos/theofpa/apache2/git/tags{/sha}\n",
       "2                    https://api.github.com/repos/theofpa/blog/git/tags{/sha}\n",
       "3                https://api.github.com/repos/theofpa/chef-aem/git/tags{/sha}\n",
       "4                 https://api.github.com/repos/theofpa/courses/git/tags{/sha}\n",
       "5             https://api.github.com/repos/theofpa/datascience/git/tags{/sha}\n",
       "6 https://api.github.com/repos/theofpa/datasci_course_material/git/tags{/sha}\n",
       "                                                                 git_refs_url\n",
       "1                 https://api.github.com/repos/theofpa/apache2/git/refs{/sha}\n",
       "2                    https://api.github.com/repos/theofpa/blog/git/refs{/sha}\n",
       "3                https://api.github.com/repos/theofpa/chef-aem/git/refs{/sha}\n",
       "4                 https://api.github.com/repos/theofpa/courses/git/refs{/sha}\n",
       "5             https://api.github.com/repos/theofpa/datascience/git/refs{/sha}\n",
       "6 https://api.github.com/repos/theofpa/datasci_course_material/git/refs{/sha}\n",
       "                                                                     trees_url\n",
       "1                 https://api.github.com/repos/theofpa/apache2/git/trees{/sha}\n",
       "2                    https://api.github.com/repos/theofpa/blog/git/trees{/sha}\n",
       "3                https://api.github.com/repos/theofpa/chef-aem/git/trees{/sha}\n",
       "4                 https://api.github.com/repos/theofpa/courses/git/trees{/sha}\n",
       "5             https://api.github.com/repos/theofpa/datascience/git/trees{/sha}\n",
       "6 https://api.github.com/repos/theofpa/datasci_course_material/git/trees{/sha}\n",
       "                                                                 statuses_url\n",
       "1                 https://api.github.com/repos/theofpa/apache2/statuses/{sha}\n",
       "2                    https://api.github.com/repos/theofpa/blog/statuses/{sha}\n",
       "3                https://api.github.com/repos/theofpa/chef-aem/statuses/{sha}\n",
       "4                 https://api.github.com/repos/theofpa/courses/statuses/{sha}\n",
       "5             https://api.github.com/repos/theofpa/datascience/statuses/{sha}\n",
       "6 https://api.github.com/repos/theofpa/datasci_course_material/statuses/{sha}\n",
       "                                                           languages_url\n",
       "1                 https://api.github.com/repos/theofpa/apache2/languages\n",
       "2                    https://api.github.com/repos/theofpa/blog/languages\n",
       "3                https://api.github.com/repos/theofpa/chef-aem/languages\n",
       "4                 https://api.github.com/repos/theofpa/courses/languages\n",
       "5             https://api.github.com/repos/theofpa/datascience/languages\n",
       "6 https://api.github.com/repos/theofpa/datasci_course_material/languages\n",
       "                                                           stargazers_url\n",
       "1                 https://api.github.com/repos/theofpa/apache2/stargazers\n",
       "2                    https://api.github.com/repos/theofpa/blog/stargazers\n",
       "3                https://api.github.com/repos/theofpa/chef-aem/stargazers\n",
       "4                 https://api.github.com/repos/theofpa/courses/stargazers\n",
       "5             https://api.github.com/repos/theofpa/datascience/stargazers\n",
       "6 https://api.github.com/repos/theofpa/datasci_course_material/stargazers\n",
       "                                                           contributors_url\n",
       "1                 https://api.github.com/repos/theofpa/apache2/contributors\n",
       "2                    https://api.github.com/repos/theofpa/blog/contributors\n",
       "3                https://api.github.com/repos/theofpa/chef-aem/contributors\n",
       "4                 https://api.github.com/repos/theofpa/courses/contributors\n",
       "5             https://api.github.com/repos/theofpa/datascience/contributors\n",
       "6 https://api.github.com/repos/theofpa/datasci_course_material/contributors\n",
       "                                                           subscribers_url\n",
       "1                 https://api.github.com/repos/theofpa/apache2/subscribers\n",
       "2                    https://api.github.com/repos/theofpa/blog/subscribers\n",
       "3                https://api.github.com/repos/theofpa/chef-aem/subscribers\n",
       "4                 https://api.github.com/repos/theofpa/courses/subscribers\n",
       "5             https://api.github.com/repos/theofpa/datascience/subscribers\n",
       "6 https://api.github.com/repos/theofpa/datasci_course_material/subscribers\n",
       "                                                           subscription_url\n",
       "1                 https://api.github.com/repos/theofpa/apache2/subscription\n",
       "2                    https://api.github.com/repos/theofpa/blog/subscription\n",
       "3                https://api.github.com/repos/theofpa/chef-aem/subscription\n",
       "4                 https://api.github.com/repos/theofpa/courses/subscription\n",
       "5             https://api.github.com/repos/theofpa/datascience/subscription\n",
       "6 https://api.github.com/repos/theofpa/datasci_course_material/subscription\n",
       "                                                                 commits_url\n",
       "1                 https://api.github.com/repos/theofpa/apache2/commits{/sha}\n",
       "2                    https://api.github.com/repos/theofpa/blog/commits{/sha}\n",
       "3                https://api.github.com/repos/theofpa/chef-aem/commits{/sha}\n",
       "4                 https://api.github.com/repos/theofpa/courses/commits{/sha}\n",
       "5             https://api.github.com/repos/theofpa/datascience/commits{/sha}\n",
       "6 https://api.github.com/repos/theofpa/datasci_course_material/commits{/sha}\n",
       "                                                                 git_commits_url\n",
       "1                 https://api.github.com/repos/theofpa/apache2/git/commits{/sha}\n",
       "2                    https://api.github.com/repos/theofpa/blog/git/commits{/sha}\n",
       "3                https://api.github.com/repos/theofpa/chef-aem/git/commits{/sha}\n",
       "4                 https://api.github.com/repos/theofpa/courses/git/commits{/sha}\n",
       "5             https://api.github.com/repos/theofpa/datascience/git/commits{/sha}\n",
       "6 https://api.github.com/repos/theofpa/datasci_course_material/git/commits{/sha}\n",
       "                                                                    comments_url\n",
       "1                 https://api.github.com/repos/theofpa/apache2/comments{/number}\n",
       "2                    https://api.github.com/repos/theofpa/blog/comments{/number}\n",
       "3                https://api.github.com/repos/theofpa/chef-aem/comments{/number}\n",
       "4                 https://api.github.com/repos/theofpa/courses/comments{/number}\n",
       "5             https://api.github.com/repos/theofpa/datascience/comments{/number}\n",
       "6 https://api.github.com/repos/theofpa/datasci_course_material/comments{/number}\n",
       "                                                                      issue_comment_url\n",
       "1                 https://api.github.com/repos/theofpa/apache2/issues/comments{/number}\n",
       "2                    https://api.github.com/repos/theofpa/blog/issues/comments{/number}\n",
       "3                https://api.github.com/repos/theofpa/chef-aem/issues/comments{/number}\n",
       "4                 https://api.github.com/repos/theofpa/courses/issues/comments{/number}\n",
       "5             https://api.github.com/repos/theofpa/datascience/issues/comments{/number}\n",
       "6 https://api.github.com/repos/theofpa/datasci_course_material/issues/comments{/number}\n",
       "                                                                   contents_url\n",
       "1                 https://api.github.com/repos/theofpa/apache2/contents/{+path}\n",
       "2                    https://api.github.com/repos/theofpa/blog/contents/{+path}\n",
       "3                https://api.github.com/repos/theofpa/chef-aem/contents/{+path}\n",
       "4                 https://api.github.com/repos/theofpa/courses/contents/{+path}\n",
       "5             https://api.github.com/repos/theofpa/datascience/contents/{+path}\n",
       "6 https://api.github.com/repos/theofpa/datasci_course_material/contents/{+path}\n",
       "                                                                           compare_url\n",
       "1                 https://api.github.com/repos/theofpa/apache2/compare/{base}...{head}\n",
       "2                    https://api.github.com/repos/theofpa/blog/compare/{base}...{head}\n",
       "3                https://api.github.com/repos/theofpa/chef-aem/compare/{base}...{head}\n",
       "4                 https://api.github.com/repos/theofpa/courses/compare/{base}...{head}\n",
       "5             https://api.github.com/repos/theofpa/datascience/compare/{base}...{head}\n",
       "6 https://api.github.com/repos/theofpa/datasci_course_material/compare/{base}...{head}\n",
       "                                                           merges_url\n",
       "1                 https://api.github.com/repos/theofpa/apache2/merges\n",
       "2                    https://api.github.com/repos/theofpa/blog/merges\n",
       "3                https://api.github.com/repos/theofpa/chef-aem/merges\n",
       "4                 https://api.github.com/repos/theofpa/courses/merges\n",
       "5             https://api.github.com/repos/theofpa/datascience/merges\n",
       "6 https://api.github.com/repos/theofpa/datasci_course_material/merges\n",
       "                                                                          archive_url\n",
       "1                 https://api.github.com/repos/theofpa/apache2/{archive_format}{/ref}\n",
       "2                    https://api.github.com/repos/theofpa/blog/{archive_format}{/ref}\n",
       "3                https://api.github.com/repos/theofpa/chef-aem/{archive_format}{/ref}\n",
       "4                 https://api.github.com/repos/theofpa/courses/{archive_format}{/ref}\n",
       "5             https://api.github.com/repos/theofpa/datascience/{archive_format}{/ref}\n",
       "6 https://api.github.com/repos/theofpa/datasci_course_material/{archive_format}{/ref}\n",
       "                                                           downloads_url\n",
       "1                 https://api.github.com/repos/theofpa/apache2/downloads\n",
       "2                    https://api.github.com/repos/theofpa/blog/downloads\n",
       "3                https://api.github.com/repos/theofpa/chef-aem/downloads\n",
       "4                 https://api.github.com/repos/theofpa/courses/downloads\n",
       "5             https://api.github.com/repos/theofpa/datascience/downloads\n",
       "6 https://api.github.com/repos/theofpa/datasci_course_material/downloads\n",
       "                                                                    issues_url\n",
       "1                 https://api.github.com/repos/theofpa/apache2/issues{/number}\n",
       "2                    https://api.github.com/repos/theofpa/blog/issues{/number}\n",
       "3                https://api.github.com/repos/theofpa/chef-aem/issues{/number}\n",
       "4                 https://api.github.com/repos/theofpa/courses/issues{/number}\n",
       "5             https://api.github.com/repos/theofpa/datascience/issues{/number}\n",
       "6 https://api.github.com/repos/theofpa/datasci_course_material/issues{/number}\n",
       "                                                                    pulls_url\n",
       "1                 https://api.github.com/repos/theofpa/apache2/pulls{/number}\n",
       "2                    https://api.github.com/repos/theofpa/blog/pulls{/number}\n",
       "3                https://api.github.com/repos/theofpa/chef-aem/pulls{/number}\n",
       "4                 https://api.github.com/repos/theofpa/courses/pulls{/number}\n",
       "5             https://api.github.com/repos/theofpa/datascience/pulls{/number}\n",
       "6 https://api.github.com/repos/theofpa/datasci_course_material/pulls{/number}\n",
       "                                                                    milestones_url\n",
       "1                 https://api.github.com/repos/theofpa/apache2/milestones{/number}\n",
       "2                    https://api.github.com/repos/theofpa/blog/milestones{/number}\n",
       "3                https://api.github.com/repos/theofpa/chef-aem/milestones{/number}\n",
       "4                 https://api.github.com/repos/theofpa/courses/milestones{/number}\n",
       "5             https://api.github.com/repos/theofpa/datascience/milestones{/number}\n",
       "6 https://api.github.com/repos/theofpa/datasci_course_material/milestones{/number}\n",
       "                                                                                     notifications_url\n",
       "1                 https://api.github.com/repos/theofpa/apache2/notifications{?since,all,participating}\n",
       "2                    https://api.github.com/repos/theofpa/blog/notifications{?since,all,participating}\n",
       "3                https://api.github.com/repos/theofpa/chef-aem/notifications{?since,all,participating}\n",
       "4                 https://api.github.com/repos/theofpa/courses/notifications{?since,all,participating}\n",
       "5             https://api.github.com/repos/theofpa/datascience/notifications{?since,all,participating}\n",
       "6 https://api.github.com/repos/theofpa/datasci_course_material/notifications{?since,all,participating}\n",
       "                                                                  labels_url\n",
       "1                 https://api.github.com/repos/theofpa/apache2/labels{/name}\n",
       "2                    https://api.github.com/repos/theofpa/blog/labels{/name}\n",
       "3                https://api.github.com/repos/theofpa/chef-aem/labels{/name}\n",
       "4                 https://api.github.com/repos/theofpa/courses/labels{/name}\n",
       "5             https://api.github.com/repos/theofpa/datascience/labels{/name}\n",
       "6 https://api.github.com/repos/theofpa/datasci_course_material/labels{/name}\n",
       "                                                                releases_url\n",
       "1                 https://api.github.com/repos/theofpa/apache2/releases{/id}\n",
       "2                    https://api.github.com/repos/theofpa/blog/releases{/id}\n",
       "3                https://api.github.com/repos/theofpa/chef-aem/releases{/id}\n",
       "4                 https://api.github.com/repos/theofpa/courses/releases{/id}\n",
       "5             https://api.github.com/repos/theofpa/datascience/releases{/id}\n",
       "6 https://api.github.com/repos/theofpa/datasci_course_material/releases{/id}\n",
       "            created_at           updated_at            pushed_at\n",
       "1 2013-10-10T23:40:26Z 2013-10-15T23:22:50Z 2013-10-14T21:57:19Z\n",
       "2 2014-04-10T17:05:57Z 2014-04-10T20:30:33Z 2014-04-10T20:29:40Z\n",
       "3 2013-08-31T22:08:13Z 2015-07-01T00:52:06Z 2014-03-10T23:36:54Z\n",
       "4 2014-05-06T19:21:46Z 2014-05-07T17:54:32Z 2014-05-07T17:54:31Z\n",
       "5 2014-04-07T21:13:39Z 2015-11-30T17:54:05Z 2014-12-06T15:57:39Z\n",
       "6 2014-07-02T21:36:34Z 2014-07-02T21:37:38Z 2014-08-25T21:00:10Z\n",
       "                                               git_url\n",
       "1                 git://github.com/theofpa/apache2.git\n",
       "2                    git://github.com/theofpa/blog.git\n",
       "3                git://github.com/theofpa/chef-aem.git\n",
       "4                 git://github.com/theofpa/courses.git\n",
       "5             git://github.com/theofpa/datascience.git\n",
       "6 git://github.com/theofpa/datasci_course_material.git\n",
       "                                             ssh_url\n",
       "1                 git@github.com:theofpa/apache2.git\n",
       "2                    git@github.com:theofpa/blog.git\n",
       "3                git@github.com:theofpa/chef-aem.git\n",
       "4                 git@github.com:theofpa/courses.git\n",
       "5             git@github.com:theofpa/datascience.git\n",
       "6 git@github.com:theofpa/datasci_course_material.git\n",
       "                                               clone_url\n",
       "1                 https://github.com/theofpa/apache2.git\n",
       "2                    https://github.com/theofpa/blog.git\n",
       "3                https://github.com/theofpa/chef-aem.git\n",
       "4                 https://github.com/theofpa/courses.git\n",
       "5             https://github.com/theofpa/datascience.git\n",
       "6 https://github.com/theofpa/datasci_course_material.git\n",
       "                                             svn_url\n",
       "1                 https://github.com/theofpa/apache2\n",
       "2                    https://github.com/theofpa/blog\n",
       "3                https://github.com/theofpa/chef-aem\n",
       "4                 https://github.com/theofpa/courses\n",
       "5             https://github.com/theofpa/datascience\n",
       "6 https://github.com/theofpa/datasci_course_material\n",
       "                                        homepage   size stargazers_count\n",
       "1 http://community.opscode.com/cookbooks/apache2    497                0\n",
       "2                                           <NA>    141                0\n",
       "3                                           <NA>    232                5\n",
       "4                                           <NA> 758107                0\n",
       "5                                           <NA>  66794               41\n",
       "6                                           <NA>  17100                0\n",
       "  watchers_count   language has_issues has_downloads has_wiki has_pages\n",
       "1              0       Ruby      FALSE          TRUE    FALSE     FALSE\n",
       "2              0       Java       TRUE          TRUE     TRUE     FALSE\n",
       "3              5       Ruby       TRUE          TRUE     TRUE     FALSE\n",
       "4              0 JavaScript      FALSE          TRUE     TRUE      TRUE\n",
       "5             41          R       TRUE          TRUE     TRUE      TRUE\n",
       "6              0       Java       TRUE          TRUE     TRUE     FALSE\n",
       "  forks_count mirror_url open_issues_count forks open_issues watchers\n",
       "1           0         NA                 0     0           0        0\n",
       "2           0         NA                 0     0           0        0\n",
       "3           2         NA                 0     2           0        5\n",
       "4           1         NA                 0     1           0        0\n",
       "5         168         NA                 0   168           0       41\n",
       "6           0         NA                 0     0           0        0\n",
       "  default_branch\n",
       "1         master\n",
       "2         master\n",
       "3         master\n",
       "4         master\n",
       "5         master\n",
       "6         master"
      ]
     },
     "execution_count": 16,
     "metadata": {},
     "output_type": "execute_result"
    }
   ],
   "source": [
    "jsondata %>%\n",
    "    head()"
   ]
  },
  {
   "cell_type": "code",
   "execution_count": 18,
   "metadata": {
    "collapsed": false
   },
   "outputs": [
    {
     "data": {
      "text/html": [
       "<ol class=list-inline>\n",
       "\t<li>'id'</li>\n",
       "\t<li>'name'</li>\n",
       "\t<li>'full_name'</li>\n",
       "\t<li>'owner'</li>\n",
       "\t<li>'private'</li>\n",
       "\t<li>'html_url'</li>\n",
       "\t<li>'description'</li>\n",
       "\t<li>'fork'</li>\n",
       "\t<li>'url'</li>\n",
       "\t<li>'forks_url'</li>\n",
       "\t<li>'keys_url'</li>\n",
       "\t<li>'collaborators_url'</li>\n",
       "\t<li>'teams_url'</li>\n",
       "\t<li>'hooks_url'</li>\n",
       "\t<li>'issue_events_url'</li>\n",
       "\t<li>'events_url'</li>\n",
       "\t<li>'assignees_url'</li>\n",
       "\t<li>'branches_url'</li>\n",
       "\t<li>'tags_url'</li>\n",
       "\t<li>'blobs_url'</li>\n",
       "\t<li>'git_tags_url'</li>\n",
       "\t<li>'git_refs_url'</li>\n",
       "\t<li>'trees_url'</li>\n",
       "\t<li>'statuses_url'</li>\n",
       "\t<li>'languages_url'</li>\n",
       "\t<li>'stargazers_url'</li>\n",
       "\t<li>'contributors_url'</li>\n",
       "\t<li>'subscribers_url'</li>\n",
       "\t<li>'subscription_url'</li>\n",
       "\t<li>'commits_url'</li>\n",
       "\t<li>'git_commits_url'</li>\n",
       "\t<li>'comments_url'</li>\n",
       "\t<li>'issue_comment_url'</li>\n",
       "\t<li>'contents_url'</li>\n",
       "\t<li>'compare_url'</li>\n",
       "\t<li>'merges_url'</li>\n",
       "\t<li>'archive_url'</li>\n",
       "\t<li>'downloads_url'</li>\n",
       "\t<li>'issues_url'</li>\n",
       "\t<li>'pulls_url'</li>\n",
       "\t<li>'milestones_url'</li>\n",
       "\t<li>'notifications_url'</li>\n",
       "\t<li>'labels_url'</li>\n",
       "\t<li>'releases_url'</li>\n",
       "\t<li>'created_at'</li>\n",
       "\t<li>'updated_at'</li>\n",
       "\t<li>'pushed_at'</li>\n",
       "\t<li>'git_url'</li>\n",
       "\t<li>'ssh_url'</li>\n",
       "\t<li>'clone_url'</li>\n",
       "\t<li>'svn_url'</li>\n",
       "\t<li>'homepage'</li>\n",
       "\t<li>'size'</li>\n",
       "\t<li>'stargazers_count'</li>\n",
       "\t<li>'watchers_count'</li>\n",
       "\t<li>'language'</li>\n",
       "\t<li>'has_issues'</li>\n",
       "\t<li>'has_downloads'</li>\n",
       "\t<li>'has_wiki'</li>\n",
       "\t<li>'has_pages'</li>\n",
       "\t<li>'forks_count'</li>\n",
       "\t<li>'mirror_url'</li>\n",
       "\t<li>'open_issues_count'</li>\n",
       "\t<li>'forks'</li>\n",
       "\t<li>'open_issues'</li>\n",
       "\t<li>'watchers'</li>\n",
       "\t<li>'default_branch'</li>\n",
       "</ol>\n"
      ],
      "text/latex": [
       "\\begin{enumerate*}\n",
       "\\item 'id'\n",
       "\\item 'name'\n",
       "\\item 'full_name'\n",
       "\\item 'owner'\n",
       "\\item 'private'\n",
       "\\item 'html_url'\n",
       "\\item 'description'\n",
       "\\item 'fork'\n",
       "\\item 'url'\n",
       "\\item 'forks_url'\n",
       "\\item 'keys_url'\n",
       "\\item 'collaborators_url'\n",
       "\\item 'teams_url'\n",
       "\\item 'hooks_url'\n",
       "\\item 'issue_events_url'\n",
       "\\item 'events_url'\n",
       "\\item 'assignees_url'\n",
       "\\item 'branches_url'\n",
       "\\item 'tags_url'\n",
       "\\item 'blobs_url'\n",
       "\\item 'git_tags_url'\n",
       "\\item 'git_refs_url'\n",
       "\\item 'trees_url'\n",
       "\\item 'statuses_url'\n",
       "\\item 'languages_url'\n",
       "\\item 'stargazers_url'\n",
       "\\item 'contributors_url'\n",
       "\\item 'subscribers_url'\n",
       "\\item 'subscription_url'\n",
       "\\item 'commits_url'\n",
       "\\item 'git_commits_url'\n",
       "\\item 'comments_url'\n",
       "\\item 'issue_comment_url'\n",
       "\\item 'contents_url'\n",
       "\\item 'compare_url'\n",
       "\\item 'merges_url'\n",
       "\\item 'archive_url'\n",
       "\\item 'downloads_url'\n",
       "\\item 'issues_url'\n",
       "\\item 'pulls_url'\n",
       "\\item 'milestones_url'\n",
       "\\item 'notifications_url'\n",
       "\\item 'labels_url'\n",
       "\\item 'releases_url'\n",
       "\\item 'created_at'\n",
       "\\item 'updated_at'\n",
       "\\item 'pushed_at'\n",
       "\\item 'git_url'\n",
       "\\item 'ssh_url'\n",
       "\\item 'clone_url'\n",
       "\\item 'svn_url'\n",
       "\\item 'homepage'\n",
       "\\item 'size'\n",
       "\\item 'stargazers_count'\n",
       "\\item 'watchers_count'\n",
       "\\item 'language'\n",
       "\\item 'has_issues'\n",
       "\\item 'has_downloads'\n",
       "\\item 'has_wiki'\n",
       "\\item 'has_pages'\n",
       "\\item 'forks_count'\n",
       "\\item 'mirror_url'\n",
       "\\item 'open_issues_count'\n",
       "\\item 'forks'\n",
       "\\item 'open_issues'\n",
       "\\item 'watchers'\n",
       "\\item 'default_branch'\n",
       "\\end{enumerate*}\n"
      ],
      "text/markdown": [
       "1. 'id'\n",
       "2. 'name'\n",
       "3. 'full_name'\n",
       "4. 'owner'\n",
       "5. 'private'\n",
       "6. 'html_url'\n",
       "7. 'description'\n",
       "8. 'fork'\n",
       "9. 'url'\n",
       "10. 'forks_url'\n",
       "11. 'keys_url'\n",
       "12. 'collaborators_url'\n",
       "13. 'teams_url'\n",
       "14. 'hooks_url'\n",
       "15. 'issue_events_url'\n",
       "16. 'events_url'\n",
       "17. 'assignees_url'\n",
       "18. 'branches_url'\n",
       "19. 'tags_url'\n",
       "20. 'blobs_url'\n",
       "21. 'git_tags_url'\n",
       "22. 'git_refs_url'\n",
       "23. 'trees_url'\n",
       "24. 'statuses_url'\n",
       "25. 'languages_url'\n",
       "26. 'stargazers_url'\n",
       "27. 'contributors_url'\n",
       "28. 'subscribers_url'\n",
       "29. 'subscription_url'\n",
       "30. 'commits_url'\n",
       "31. 'git_commits_url'\n",
       "32. 'comments_url'\n",
       "33. 'issue_comment_url'\n",
       "34. 'contents_url'\n",
       "35. 'compare_url'\n",
       "36. 'merges_url'\n",
       "37. 'archive_url'\n",
       "38. 'downloads_url'\n",
       "39. 'issues_url'\n",
       "40. 'pulls_url'\n",
       "41. 'milestones_url'\n",
       "42. 'notifications_url'\n",
       "43. 'labels_url'\n",
       "44. 'releases_url'\n",
       "45. 'created_at'\n",
       "46. 'updated_at'\n",
       "47. 'pushed_at'\n",
       "48. 'git_url'\n",
       "49. 'ssh_url'\n",
       "50. 'clone_url'\n",
       "51. 'svn_url'\n",
       "52. 'homepage'\n",
       "53. 'size'\n",
       "54. 'stargazers_count'\n",
       "55. 'watchers_count'\n",
       "56. 'language'\n",
       "57. 'has_issues'\n",
       "58. 'has_downloads'\n",
       "59. 'has_wiki'\n",
       "60. 'has_pages'\n",
       "61. 'forks_count'\n",
       "62. 'mirror_url'\n",
       "63. 'open_issues_count'\n",
       "64. 'forks'\n",
       "65. 'open_issues'\n",
       "66. 'watchers'\n",
       "67. 'default_branch'\n",
       "\n",
       "\n"
      ],
      "text/plain": [
       " [1] \"id\"                \"name\"              \"full_name\"        \n",
       " [4] \"owner\"             \"private\"           \"html_url\"         \n",
       " [7] \"description\"       \"fork\"              \"url\"              \n",
       "[10] \"forks_url\"         \"keys_url\"          \"collaborators_url\"\n",
       "[13] \"teams_url\"         \"hooks_url\"         \"issue_events_url\" \n",
       "[16] \"events_url\"        \"assignees_url\"     \"branches_url\"     \n",
       "[19] \"tags_url\"          \"blobs_url\"         \"git_tags_url\"     \n",
       "[22] \"git_refs_url\"      \"trees_url\"         \"statuses_url\"     \n",
       "[25] \"languages_url\"     \"stargazers_url\"    \"contributors_url\" \n",
       "[28] \"subscribers_url\"   \"subscription_url\"  \"commits_url\"      \n",
       "[31] \"git_commits_url\"   \"comments_url\"      \"issue_comment_url\"\n",
       "[34] \"contents_url\"      \"compare_url\"       \"merges_url\"       \n",
       "[37] \"archive_url\"       \"downloads_url\"     \"issues_url\"       \n",
       "[40] \"pulls_url\"         \"milestones_url\"    \"notifications_url\"\n",
       "[43] \"labels_url\"        \"releases_url\"      \"created_at\"       \n",
       "[46] \"updated_at\"        \"pushed_at\"         \"git_url\"          \n",
       "[49] \"ssh_url\"           \"clone_url\"         \"svn_url\"          \n",
       "[52] \"homepage\"          \"size\"              \"stargazers_count\" \n",
       "[55] \"watchers_count\"    \"language\"          \"has_issues\"       \n",
       "[58] \"has_downloads\"     \"has_wiki\"          \"has_pages\"        \n",
       "[61] \"forks_count\"       \"mirror_url\"        \"open_issues_count\"\n",
       "[64] \"forks\"             \"open_issues\"       \"watchers\"         \n",
       "[67] \"default_branch\"   "
      ]
     },
     "execution_count": 18,
     "metadata": {},
     "output_type": "execute_result"
    }
   ],
   "source": [
    "names(jsondata)"
   ]
  },
  {
   "cell_type": "code",
   "execution_count": 17,
   "metadata": {
    "collapsed": false
   },
   "outputs": [
    {
     "name": "stdout",
     "output_type": "stream",
     "text": [
      "login\n",
      "id\n",
      "avatar_url\n",
      "gravatar_id\n",
      "url\n",
      "html_url\n",
      "followers_url\n",
      "following_url\n",
      "gists_url\n",
      "starred_url\n",
      "subscriptions_url\n",
      "organizations_url\n",
      "repos_url\n",
      "events_url\n",
      "received_events_url\n",
      "type\n",
      "site_admin\n"
     ]
    }
   ],
   "source": [
    "names(jsondata$owner) %>% \n",
    "    cat(sep='\\n')"
   ]
  },
  {
   "cell_type": "code",
   "execution_count": 19,
   "metadata": {
    "collapsed": false
   },
   "outputs": [
    {
     "data": {
      "text/html": [
       "<ol class=list-inline>\n",
       "\t<li>'theofpa'</li>\n",
       "\t<li>'theofpa'</li>\n",
       "\t<li>'theofpa'</li>\n",
       "\t<li>'theofpa'</li>\n",
       "\t<li>'theofpa'</li>\n",
       "\t<li>'theofpa'</li>\n",
       "\t<li>'theofpa'</li>\n",
       "\t<li>'theofpa'</li>\n",
       "\t<li>'theofpa'</li>\n",
       "\t<li>'theofpa'</li>\n",
       "\t<li>'theofpa'</li>\n",
       "\t<li>'theofpa'</li>\n",
       "\t<li>'theofpa'</li>\n",
       "\t<li>'theofpa'</li>\n",
       "\t<li>'theofpa'</li>\n",
       "\t<li>'theofpa'</li>\n",
       "\t<li>'theofpa'</li>\n",
       "\t<li>'theofpa'</li>\n",
       "\t<li>'theofpa'</li>\n",
       "\t<li>'theofpa'</li>\n",
       "\t<li>'theofpa'</li>\n",
       "\t<li>'theofpa'</li>\n",
       "\t<li>'theofpa'</li>\n",
       "\t<li>'theofpa'</li>\n",
       "\t<li>'theofpa'</li>\n",
       "\t<li>'theofpa'</li>\n",
       "\t<li>'theofpa'</li>\n",
       "\t<li>'theofpa'</li>\n",
       "\t<li>'theofpa'</li>\n",
       "\t<li>'theofpa'</li>\n",
       "</ol>\n"
      ],
      "text/latex": [
       "\\begin{enumerate*}\n",
       "\\item 'theofpa'\n",
       "\\item 'theofpa'\n",
       "\\item 'theofpa'\n",
       "\\item 'theofpa'\n",
       "\\item 'theofpa'\n",
       "\\item 'theofpa'\n",
       "\\item 'theofpa'\n",
       "\\item 'theofpa'\n",
       "\\item 'theofpa'\n",
       "\\item 'theofpa'\n",
       "\\item 'theofpa'\n",
       "\\item 'theofpa'\n",
       "\\item 'theofpa'\n",
       "\\item 'theofpa'\n",
       "\\item 'theofpa'\n",
       "\\item 'theofpa'\n",
       "\\item 'theofpa'\n",
       "\\item 'theofpa'\n",
       "\\item 'theofpa'\n",
       "\\item 'theofpa'\n",
       "\\item 'theofpa'\n",
       "\\item 'theofpa'\n",
       "\\item 'theofpa'\n",
       "\\item 'theofpa'\n",
       "\\item 'theofpa'\n",
       "\\item 'theofpa'\n",
       "\\item 'theofpa'\n",
       "\\item 'theofpa'\n",
       "\\item 'theofpa'\n",
       "\\item 'theofpa'\n",
       "\\end{enumerate*}\n"
      ],
      "text/markdown": [
       "1. 'theofpa'\n",
       "2. 'theofpa'\n",
       "3. 'theofpa'\n",
       "4. 'theofpa'\n",
       "5. 'theofpa'\n",
       "6. 'theofpa'\n",
       "7. 'theofpa'\n",
       "8. 'theofpa'\n",
       "9. 'theofpa'\n",
       "10. 'theofpa'\n",
       "11. 'theofpa'\n",
       "12. 'theofpa'\n",
       "13. 'theofpa'\n",
       "14. 'theofpa'\n",
       "15. 'theofpa'\n",
       "16. 'theofpa'\n",
       "17. 'theofpa'\n",
       "18. 'theofpa'\n",
       "19. 'theofpa'\n",
       "20. 'theofpa'\n",
       "21. 'theofpa'\n",
       "22. 'theofpa'\n",
       "23. 'theofpa'\n",
       "24. 'theofpa'\n",
       "25. 'theofpa'\n",
       "26. 'theofpa'\n",
       "27. 'theofpa'\n",
       "28. 'theofpa'\n",
       "29. 'theofpa'\n",
       "30. 'theofpa'\n",
       "\n",
       "\n"
      ],
      "text/plain": [
       " [1] \"theofpa\" \"theofpa\" \"theofpa\" \"theofpa\" \"theofpa\" \"theofpa\" \"theofpa\"\n",
       " [8] \"theofpa\" \"theofpa\" \"theofpa\" \"theofpa\" \"theofpa\" \"theofpa\" \"theofpa\"\n",
       "[15] \"theofpa\" \"theofpa\" \"theofpa\" \"theofpa\" \"theofpa\" \"theofpa\" \"theofpa\"\n",
       "[22] \"theofpa\" \"theofpa\" \"theofpa\" \"theofpa\" \"theofpa\" \"theofpa\" \"theofpa\"\n",
       "[29] \"theofpa\" \"theofpa\""
      ]
     },
     "execution_count": 19,
     "metadata": {},
     "output_type": "execute_result"
    }
   ],
   "source": [
    "jsondata$owner$login"
   ]
  },
  {
   "cell_type": "code",
   "execution_count": 22,
   "metadata": {
    "collapsed": false
   },
   "outputs": [
    {
     "data": {
      "text/html": [
       "<table>\n",
       "<thead><tr><th></th><th scope=col>Sepal.Length</th><th scope=col>Sepal.Width</th><th scope=col>Petal.Length</th><th scope=col>Petal.Width</th><th scope=col>Species</th></tr></thead>\n",
       "<tbody>\n",
       "\t<tr><th scope=row>1</th><td>5.1</td><td>3.5</td><td>1.4</td><td>0.2</td><td>setosa</td></tr>\n",
       "\t<tr><th scope=row>2</th><td>4.9</td><td>3</td><td>1.4</td><td>0.2</td><td>setosa</td></tr>\n",
       "\t<tr><th scope=row>3</th><td>4.7</td><td>3.2</td><td>1.3</td><td>0.2</td><td>setosa</td></tr>\n",
       "\t<tr><th scope=row>4</th><td>4.6</td><td>3.1</td><td>1.5</td><td>0.2</td><td>setosa</td></tr>\n",
       "\t<tr><th scope=row>5</th><td>5</td><td>3.6</td><td>1.4</td><td>0.2</td><td>setosa</td></tr>\n",
       "\t<tr><th scope=row>6</th><td>5.4</td><td>3.9</td><td>1.7</td><td>0.4</td><td>setosa</td></tr>\n",
       "</tbody>\n",
       "</table>\n"
      ],
      "text/latex": [
       "\\begin{tabular}{r|lllll}\n",
       "  & Sepal.Length & Sepal.Width & Petal.Length & Petal.Width & Species\\\\\n",
       "\\hline\n",
       "\t1 & 5.1 & 3.5 & 1.4 & 0.2 & setosa\\\\\n",
       "\t2 & 4.9 & 3 & 1.4 & 0.2 & setosa\\\\\n",
       "\t3 & 4.7 & 3.2 & 1.3 & 0.2 & setosa\\\\\n",
       "\t4 & 4.6 & 3.1 & 1.5 & 0.2 & setosa\\\\\n",
       "\t5 & 5 & 3.6 & 1.4 & 0.2 & setosa\\\\\n",
       "\t6 & 5.4 & 3.9 & 1.7 & 0.4 & setosa\\\\\n",
       "\\end{tabular}\n"
      ],
      "text/plain": [
       "  Sepal.Length Sepal.Width Petal.Length Petal.Width Species\n",
       "1          5.1         3.5          1.4         0.2  setosa\n",
       "2          4.9         3.0          1.4         0.2  setosa\n",
       "3          4.7         3.2          1.3         0.2  setosa\n",
       "4          4.6         3.1          1.5         0.2  setosa\n",
       "5          5.0         3.6          1.4         0.2  setosa\n",
       "6          5.4         3.9          1.7         0.4  setosa"
      ]
     },
     "execution_count": 22,
     "metadata": {},
     "output_type": "execute_result"
    }
   ],
   "source": [
    "head(iris)"
   ]
  },
  {
   "cell_type": "code",
   "execution_count": 32,
   "metadata": {
    "collapsed": true
   },
   "outputs": [],
   "source": [
    "myjson<-toJSON(head(iris),pretty=TRUE)"
   ]
  },
  {
   "cell_type": "code",
   "execution_count": 34,
   "metadata": {
    "collapsed": false,
    "scrolled": false
   },
   "outputs": [
    {
     "name": "stdout",
     "output_type": "stream",
     "text": [
      "[\n",
      "  {\n",
      "    \"Sepal.Length\": 5.1,\n",
      "    \"Sepal.Width\": 3.5,\n",
      "    \"Petal.Length\": 1.4,\n",
      "    \"Petal.Width\": 0.2,\n",
      "    \"Species\": \"setosa\"\n",
      "  },\n",
      "  {\n",
      "    \"Sepal.Length\": 4.9,\n",
      "    \"Sepal.Width\": 3,\n",
      "    \"Petal.Length\": 1.4,\n",
      "    \"Petal.Width\": 0.2,\n",
      "    \"Species\": \"setosa\"\n",
      "  },\n",
      "  {\n",
      "    \"Sepal.Length\": 4.7,\n",
      "    \"Sepal.Width\": 3.2,\n",
      "    \"Petal.Length\": 1.3,\n",
      "    \"Petal.Width\": 0.2,\n",
      "    \"Species\": \"setosa\"\n",
      "  },\n",
      "  {\n",
      "    \"Sepal.Length\": 4.6,\n",
      "    \"Sepal.Width\": 3.1,\n",
      "    \"Petal.Length\": 1.5,\n",
      "    \"Petal.Width\": 0.2,\n",
      "    \"Species\": \"setosa\"\n",
      "  },\n",
      "  {\n",
      "    \"Sepal.Length\": 5,\n",
      "    \"Sepal.Width\": 3.6,\n",
      "    \"Petal.Length\": 1.4,\n",
      "    \"Petal.Width\": 0.2,\n",
      "    \"Species\": \"setosa\"\n",
      "  },\n",
      "  {\n",
      "    \"Sepal.Length\": 5.4,\n",
      "    \"Sepal.Width\": 3.9,\n",
      "    \"Petal.Length\": 1.7,\n",
      "    \"Petal.Width\": 0.4,\n",
      "    \"Species\": \"setosa\"\n",
      "  }\n",
      "]"
     ]
    }
   ],
   "source": [
    "cat(myjson)"
   ]
  },
  {
   "cell_type": "code",
   "execution_count": 35,
   "metadata": {
    "collapsed": true
   },
   "outputs": [],
   "source": [
    "iris2<-fromJSON(myjson)"
   ]
  },
  {
   "cell_type": "code",
   "execution_count": 36,
   "metadata": {
    "collapsed": false
   },
   "outputs": [
    {
     "data": {
      "text/html": [
       "<table>\n",
       "<thead><tr><th></th><th scope=col>Sepal.Length</th><th scope=col>Sepal.Width</th><th scope=col>Petal.Length</th><th scope=col>Petal.Width</th><th scope=col>Species</th></tr></thead>\n",
       "<tbody>\n",
       "\t<tr><th scope=row>1</th><td>5.1</td><td>3.5</td><td>1.4</td><td>0.2</td><td>setosa</td></tr>\n",
       "\t<tr><th scope=row>2</th><td>4.9</td><td>3</td><td>1.4</td><td>0.2</td><td>setosa</td></tr>\n",
       "\t<tr><th scope=row>3</th><td>4.7</td><td>3.2</td><td>1.3</td><td>0.2</td><td>setosa</td></tr>\n",
       "\t<tr><th scope=row>4</th><td>4.6</td><td>3.1</td><td>1.5</td><td>0.2</td><td>setosa</td></tr>\n",
       "\t<tr><th scope=row>5</th><td>5</td><td>3.6</td><td>1.4</td><td>0.2</td><td>setosa</td></tr>\n",
       "\t<tr><th scope=row>6</th><td>5.4</td><td>3.9</td><td>1.7</td><td>0.4</td><td>setosa</td></tr>\n",
       "</tbody>\n",
       "</table>\n"
      ],
      "text/latex": [
       "\\begin{tabular}{r|lllll}\n",
       "  & Sepal.Length & Sepal.Width & Petal.Length & Petal.Width & Species\\\\\n",
       "\\hline\n",
       "\t1 & 5.1 & 3.5 & 1.4 & 0.2 & setosa\\\\\n",
       "\t2 & 4.9 & 3 & 1.4 & 0.2 & setosa\\\\\n",
       "\t3 & 4.7 & 3.2 & 1.3 & 0.2 & setosa\\\\\n",
       "\t4 & 4.6 & 3.1 & 1.5 & 0.2 & setosa\\\\\n",
       "\t5 & 5 & 3.6 & 1.4 & 0.2 & setosa\\\\\n",
       "\t6 & 5.4 & 3.9 & 1.7 & 0.4 & setosa\\\\\n",
       "\\end{tabular}\n"
      ],
      "text/plain": [
       "  Sepal.Length Sepal.Width Petal.Length Petal.Width Species\n",
       "1          5.1         3.5          1.4         0.2  setosa\n",
       "2          4.9         3.0          1.4         0.2  setosa\n",
       "3          4.7         3.2          1.3         0.2  setosa\n",
       "4          4.6         3.1          1.5         0.2  setosa\n",
       "5          5.0         3.6          1.4         0.2  setosa\n",
       "6          5.4         3.9          1.7         0.4  setosa"
      ]
     },
     "execution_count": 36,
     "metadata": {},
     "output_type": "execute_result"
    }
   ],
   "source": [
    "iris2"
   ]
  },
  {
   "cell_type": "markdown",
   "metadata": {},
   "source": [
    "----"
   ]
  },
  {
   "cell_type": "code",
   "execution_count": 33,
   "metadata": {
    "collapsed": false
   },
   "outputs": [],
   "source": [
    "#install.packages(\"data.table\")\n",
    "library(data.table)"
   ]
  },
  {
   "cell_type": "code",
   "execution_count": 34,
   "metadata": {
    "collapsed": false
   },
   "outputs": [
    {
     "data": {
      "text/html": [
       "<table>\n",
       "<thead><tr><th></th><th scope=col>x</th><th scope=col>y</th><th scope=col>z</th></tr></thead>\n",
       "<tbody>\n",
       "\t<tr><th scope=row>1</th><td>-1.192255</td><td>a</td><td>-1.10874</td></tr>\n",
       "\t<tr><th scope=row>2</th><td>-0.05645347</td><td>a</td><td>1.068916</td></tr>\n",
       "\t<tr><th scope=row>3</th><td>-2.508346</td><td>a</td><td>-0.6984583</td></tr>\n",
       "</tbody>\n",
       "</table>\n"
      ],
      "text/latex": [
       "\\begin{tabular}{r|lll}\n",
       "  & x & y & z\\\\\n",
       "\\hline\n",
       "\t1 & -1.192255 & a & -1.10874\\\\\n",
       "\t2 & -0.05645347 & a & 1.068916\\\\\n",
       "\t3 & -2.508346 & a & -0.6984583\\\\\n",
       "\\end{tabular}\n"
      ],
      "text/plain": [
       "            x y          z\n",
       "1 -1.19225543 a -1.1087398\n",
       "2 -0.05645347 a  1.0689156\n",
       "3 -2.50834592 a -0.6984583"
      ]
     },
     "execution_count": 34,
     "metadata": {},
     "output_type": "execute_result"
    }
   ],
   "source": [
    "DF=data.frame(x=rnorm(9),y=rep(c(\"a\",\"b\",\"c\"),each=3),z=rnorm(9))\n",
    "head(DF,3)"
   ]
  },
  {
   "cell_type": "code",
   "execution_count": 35,
   "metadata": {
    "collapsed": false
   },
   "outputs": [
    {
     "data": {
      "text/html": [
       "<table>\n",
       "<thead><tr><th></th><th scope=col>x</th><th scope=col>y</th><th scope=col>z</th></tr></thead>\n",
       "<tbody>\n",
       "\t<tr><th scope=row>1</th><td>0.3930293</td><td>a</td><td>2.197734</td></tr>\n",
       "\t<tr><th scope=row>2</th><td>1.916401</td><td>a</td><td>-0.2612962</td></tr>\n",
       "\t<tr><th scope=row>3</th><td>0.2519046</td><td>a</td><td>-0.4501743</td></tr>\n",
       "</tbody>\n",
       "</table>\n"
      ],
      "text/latex": [
       "\\begin{tabular}{r|lll}\n",
       "  & x & y & z\\\\\n",
       "\\hline\n",
       "\t1 & 0.3930293 & a & 2.197734\\\\\n",
       "\t2 & 1.916401 & a & -0.2612962\\\\\n",
       "\t3 & 0.2519046 & a & -0.4501743\\\\\n",
       "\\end{tabular}\n"
      ],
      "text/plain": [
       "           x y          z\n",
       "1: 0.3930293 a  2.1977342\n",
       "2: 1.9164014 a -0.2612962\n",
       "3: 0.2519046 a -0.4501743"
      ]
     },
     "execution_count": 35,
     "metadata": {},
     "output_type": "execute_result"
    }
   ],
   "source": [
    "DT=data.table(x=rnorm(9),y=rep(c(\"a\",\"b\",\"c\"),each=3),z=rnorm(9))\n",
    "head(DT,3)"
   ]
  },
  {
   "cell_type": "code",
   "execution_count": 36,
   "metadata": {
    "collapsed": false
   },
   "outputs": [
    {
     "name": "stdout",
     "output_type": "stream",
     "text": [
      "     NAME NROW NCOL MB COLS  KEY\n",
      "[1,] DT      9    3  1 x,y,z    \n",
      "Total: 1MB\n"
     ]
    }
   ],
   "source": [
    "tables()"
   ]
  },
  {
   "cell_type": "code",
   "execution_count": 5,
   "metadata": {
    "collapsed": false
   },
   "outputs": [
    {
     "data": {
      "text/html": [
       "<table>\n",
       "<thead><tr><th></th><th scope=col>x</th><th scope=col>y</th><th scope=col>z</th></tr></thead>\n",
       "<tbody>\n",
       "\t<tr><th scope=row>1</th><td>-1.800356</td><td>a</td><td>-0.9520783</td></tr>\n",
       "</tbody>\n",
       "</table>\n"
      ],
      "text/latex": [
       "\\begin{tabular}{r|lll}\n",
       "  & x & y & z\\\\\n",
       "\\hline\n",
       "\t1 & -1.800356 & a & -0.9520783\\\\\n",
       "\\end{tabular}\n"
      ],
      "text/plain": [
       "           x y          z\n",
       "1: -1.800356 a -0.9520783"
      ]
     },
     "execution_count": 5,
     "metadata": {},
     "output_type": "execute_result"
    }
   ],
   "source": [
    "DT[2,]"
   ]
  },
  {
   "cell_type": "code",
   "execution_count": 6,
   "metadata": {
    "collapsed": false
   },
   "outputs": [
    {
     "data": {
      "text/html": [
       "<table>\n",
       "<thead><tr><th></th><th scope=col>x</th><th scope=col>y</th><th scope=col>z</th></tr></thead>\n",
       "<tbody>\n",
       "\t<tr><th scope=row>1</th><td>0.781413</td><td>a</td><td>-1.206083</td></tr>\n",
       "\t<tr><th scope=row>2</th><td>-1.800356</td><td>a</td><td>-0.9520783</td></tr>\n",
       "\t<tr><th scope=row>3</th><td>0.4668786</td><td>a</td><td>-0.8441454</td></tr>\n",
       "</tbody>\n",
       "</table>\n"
      ],
      "text/latex": [
       "\\begin{tabular}{r|lll}\n",
       "  & x & y & z\\\\\n",
       "\\hline\n",
       "\t1 & 0.781413 & a & -1.206083\\\\\n",
       "\t2 & -1.800356 & a & -0.9520783\\\\\n",
       "\t3 & 0.4668786 & a & -0.8441454\\\\\n",
       "\\end{tabular}\n"
      ],
      "text/plain": [
       "            x y          z\n",
       "1:  0.7814130 a -1.2060827\n",
       "2: -1.8003559 a -0.9520783\n",
       "3:  0.4668786 a -0.8441454"
      ]
     },
     "execution_count": 6,
     "metadata": {},
     "output_type": "execute_result"
    }
   ],
   "source": [
    "DT[DT$y==\"a\",]"
   ]
  },
  {
   "cell_type": "code",
   "execution_count": 37,
   "metadata": {
    "collapsed": false
   },
   "outputs": [
    {
     "data": {
      "text/html": [
       "<table>\n",
       "<thead><tr><th></th><th scope=col>x</th><th scope=col>y</th><th scope=col>z</th></tr></thead>\n",
       "<tbody>\n",
       "\t<tr><th scope=row>1</th><td>0.3930293</td><td>a</td><td>2.197734</td></tr>\n",
       "\t<tr><th scope=row>2</th><td>1.916401</td><td>a</td><td>-0.2612962</td></tr>\n",
       "\t<tr><th scope=row>3</th><td>0.2519046</td><td>a</td><td>-0.4501743</td></tr>\n",
       "\t<tr><th scope=row>4</th><td>1.200362</td><td>b</td><td>-0.04275896</td></tr>\n",
       "\t<tr><th scope=row>5</th><td>0.894032</td><td>b</td><td>-0.239556</td></tr>\n",
       "\t<tr><th scope=row>6</th><td>1.308723</td><td>b</td><td>-0.6787267</td></tr>\n",
       "\t<tr><th scope=row>7</th><td>0.3405987</td><td>c</td><td>-0.8165903</td></tr>\n",
       "\t<tr><th scope=row>8</th><td>0.08851183</td><td>c</td><td>-1.726718</td></tr>\n",
       "\t<tr><th scope=row>9</th><td>1.244369</td><td>c</td><td>0.6070876</td></tr>\n",
       "</tbody>\n",
       "</table>\n"
      ],
      "text/latex": [
       "\\begin{tabular}{r|lll}\n",
       "  & x & y & z\\\\\n",
       "\\hline\n",
       "\t1 & 0.3930293 & a & 2.197734\\\\\n",
       "\t2 & 1.916401 & a & -0.2612962\\\\\n",
       "\t3 & 0.2519046 & a & -0.4501743\\\\\n",
       "\t4 & 1.200362 & b & -0.04275896\\\\\n",
       "\t5 & 0.894032 & b & -0.239556\\\\\n",
       "\t6 & 1.308723 & b & -0.6787267\\\\\n",
       "\t7 & 0.3405987 & c & -0.8165903\\\\\n",
       "\t8 & 0.08851183 & c & -1.726718\\\\\n",
       "\t9 & 1.244369 & c & 0.6070876\\\\\n",
       "\\end{tabular}\n"
      ],
      "text/plain": [
       "            x y           z\n",
       "1: 0.39302934 a  2.19773420\n",
       "2: 1.91640136 a -0.26129623\n",
       "3: 0.25190461 a -0.45017426\n",
       "4: 1.20036209 b -0.04275896\n",
       "5: 0.89403198 b -0.23955599\n",
       "6: 1.30872263 b -0.67872672\n",
       "7: 0.34059874 c -0.81659031\n",
       "8: 0.08851183 c -1.72671806\n",
       "9: 1.24436872 c  0.60708764"
      ]
     },
     "execution_count": 37,
     "metadata": {},
     "output_type": "execute_result"
    }
   ],
   "source": [
    "DT"
   ]
  },
  {
   "cell_type": "code",
   "execution_count": 38,
   "metadata": {
    "collapsed": false
   },
   "outputs": [
    {
     "data": {
      "text/html": [
       "<table>\n",
       "<thead><tr><th></th><th scope=col>x</th><th scope=col>y</th><th scope=col>z</th></tr></thead>\n",
       "<tbody>\n",
       "\t<tr><th scope=row>1</th><td>1.916401</td><td>a</td><td>-0.2612962</td></tr>\n",
       "\t<tr><th scope=row>2</th><td>0.2519046</td><td>a</td><td>-0.4501743</td></tr>\n",
       "</tbody>\n",
       "</table>\n"
      ],
      "text/latex": [
       "\\begin{tabular}{r|lll}\n",
       "  & x & y & z\\\\\n",
       "\\hline\n",
       "\t1 & 1.916401 & a & -0.2612962\\\\\n",
       "\t2 & 0.2519046 & a & -0.4501743\\\\\n",
       "\\end{tabular}\n"
      ],
      "text/plain": [
       "           x y          z\n",
       "1: 1.9164014 a -0.2612962\n",
       "2: 0.2519046 a -0.4501743"
      ]
     },
     "execution_count": 38,
     "metadata": {},
     "output_type": "execute_result"
    }
   ],
   "source": [
    "DT[c(2,3)]"
   ]
  },
  {
   "cell_type": "code",
   "execution_count": 39,
   "metadata": {
    "collapsed": false
   },
   "outputs": [
    {
     "data": {
      "text/html": [
       "<ol class=list-inline>\n",
       "\t<li>2</li>\n",
       "\t<li>3</li>\n",
       "</ol>\n"
      ],
      "text/latex": [
       "\\begin{enumerate*}\n",
       "\\item 2\n",
       "\\item 3\n",
       "\\end{enumerate*}\n"
      ],
      "text/markdown": [
       "1. 2\n",
       "2. 3\n",
       "\n",
       "\n"
      ],
      "text/plain": [
       "[1] 2 3"
      ]
     },
     "execution_count": 39,
     "metadata": {},
     "output_type": "execute_result"
    }
   ],
   "source": [
    "DT[,c(2,3)]"
   ]
  },
  {
   "cell_type": "code",
   "execution_count": 40,
   "metadata": {
    "collapsed": false
   },
   "outputs": [
    {
     "data": {
      "text/html": [
       "<table>\n",
       "<thead><tr><th></th><th scope=col>V1</th><th scope=col>V2</th></tr></thead>\n",
       "<tbody>\n",
       "\t<tr><th scope=row>1</th><td>0.848659</td><td>-1.410999</td></tr>\n",
       "</tbody>\n",
       "</table>\n"
      ],
      "text/latex": [
       "\\begin{tabular}{r|ll}\n",
       "  & V1 & V2\\\\\n",
       "\\hline\n",
       "\t1 & 0.848659 & -1.410999\\\\\n",
       "\\end{tabular}\n"
      ],
      "text/plain": [
       "         V1        V2\n",
       "1: 0.848659 -1.410999"
      ]
     },
     "execution_count": 40,
     "metadata": {},
     "output_type": "execute_result"
    }
   ],
   "source": [
    "DT[,list(mean(x),sum(z))]"
   ]
  },
  {
   "cell_type": "code",
   "execution_count": 41,
   "metadata": {
    "collapsed": false
   },
   "outputs": [
    {
     "data": {
      "text/plain": [
       "y\n",
       "a b c \n",
       "3 3 3 "
      ]
     },
     "execution_count": 41,
     "metadata": {},
     "output_type": "execute_result"
    }
   ],
   "source": [
    "DT[,table(y)]"
   ]
  },
  {
   "cell_type": "code",
   "execution_count": 42,
   "metadata": {
    "collapsed": false
   },
   "outputs": [
    {
     "data": {
      "text/html": [
       "<table>\n",
       "<thead><tr><th></th><th scope=col>x</th><th scope=col>y</th><th scope=col>z</th><th scope=col>w</th></tr></thead>\n",
       "<tbody>\n",
       "\t<tr><th scope=row>1</th><td>0.3930293</td><td>a</td><td>2.197734</td><td>4.830036</td></tr>\n",
       "\t<tr><th scope=row>2</th><td>1.916401</td><td>a</td><td>-0.2612962</td><td>0.06827572</td></tr>\n",
       "\t<tr><th scope=row>3</th><td>0.2519046</td><td>a</td><td>-0.4501743</td><td>0.2026569</td></tr>\n",
       "\t<tr><th scope=row>4</th><td>1.200362</td><td>b</td><td>-0.04275896</td><td>0.001828329</td></tr>\n",
       "\t<tr><th scope=row>5</th><td>0.894032</td><td>b</td><td>-0.239556</td><td>0.05738707</td></tr>\n",
       "\t<tr><th scope=row>6</th><td>1.308723</td><td>b</td><td>-0.6787267</td><td>0.46067</td></tr>\n",
       "\t<tr><th scope=row>7</th><td>0.3405987</td><td>c</td><td>-0.8165903</td><td>0.6668197</td></tr>\n",
       "\t<tr><th scope=row>8</th><td>0.08851183</td><td>c</td><td>-1.726718</td><td>2.981555</td></tr>\n",
       "\t<tr><th scope=row>9</th><td>1.244369</td><td>c</td><td>0.6070876</td><td>0.3685554</td></tr>\n",
       "</tbody>\n",
       "</table>\n"
      ],
      "text/latex": [
       "\\begin{tabular}{r|llll}\n",
       "  & x & y & z & w\\\\\n",
       "\\hline\n",
       "\t1 & 0.3930293 & a & 2.197734 & 4.830036\\\\\n",
       "\t2 & 1.916401 & a & -0.2612962 & 0.06827572\\\\\n",
       "\t3 & 0.2519046 & a & -0.4501743 & 0.2026569\\\\\n",
       "\t4 & 1.200362 & b & -0.04275896 & 0.001828329\\\\\n",
       "\t5 & 0.894032 & b & -0.239556 & 0.05738707\\\\\n",
       "\t6 & 1.308723 & b & -0.6787267 & 0.46067\\\\\n",
       "\t7 & 0.3405987 & c & -0.8165903 & 0.6668197\\\\\n",
       "\t8 & 0.08851183 & c & -1.726718 & 2.981555\\\\\n",
       "\t9 & 1.244369 & c & 0.6070876 & 0.3685554\\\\\n",
       "\\end{tabular}\n"
      ],
      "text/plain": [
       "            x y           z           w\n",
       "1: 0.39302934 a  2.19773420 4.830035612\n",
       "2: 1.91640136 a -0.26129623 0.068275718\n",
       "3: 0.25190461 a -0.45017426 0.202656867\n",
       "4: 1.20036209 b -0.04275896 0.001828329\n",
       "5: 0.89403198 b -0.23955599 0.057387073\n",
       "6: 1.30872263 b -0.67872672 0.460669959\n",
       "7: 0.34059874 c -0.81659031 0.666819741\n",
       "8: 0.08851183 c -1.72671806 2.981555261\n",
       "9: 1.24436872 c  0.60708764 0.368555402"
      ]
     },
     "execution_count": 42,
     "metadata": {},
     "output_type": "execute_result"
    }
   ],
   "source": [
    "DT[,w:=z^2] # Add new column"
   ]
  },
  {
   "cell_type": "code",
   "execution_count": 43,
   "metadata": {
    "collapsed": false
   },
   "outputs": [
    {
     "data": {
      "text/html": [
       "<table>\n",
       "<thead><tr><th></th><th scope=col>x</th><th scope=col>y</th><th scope=col>z</th><th scope=col>w</th><th scope=col>m</th></tr></thead>\n",
       "<tbody>\n",
       "\t<tr><th scope=row>1</th><td>0.3930293</td><td>a</td><td>2.197734</td><td>4.830036</td><td>2.924245</td></tr>\n",
       "\t<tr><th scope=row>2</th><td>1.916401</td><td>a</td><td>-0.2612962</td><td>0.06827572</td><td>2.734461</td></tr>\n",
       "\t<tr><th scope=row>3</th><td>0.2519046</td><td>a</td><td>-0.4501743</td><td>0.2026569</td><td>2.263554</td></tr>\n",
       "\t<tr><th scope=row>4</th><td>1.200362</td><td>b</td><td>-0.04275896</td><td>0.001828329</td><td>2.622369</td></tr>\n",
       "\t<tr><th scope=row>5</th><td>0.894032</td><td>b</td><td>-0.239556</td><td>0.05738707</td><td>2.499393</td></tr>\n",
       "\t<tr><th scope=row>6</th><td>1.308723</td><td>b</td><td>-0.6787267</td><td>0.46067</td><td>2.493134</td></tr>\n",
       "\t<tr><th scope=row>7</th><td>0.3405987</td><td>c</td><td>-0.8165903</td><td>0.6668197</td><td>2.177602</td></tr>\n",
       "\t<tr><th scope=row>8</th><td>0.08851183</td><td>c</td><td>-1.726718</td><td>2.981555</td><td>1.749231</td></tr>\n",
       "\t<tr><th scope=row>9</th><td>1.244369</td><td>c</td><td>0.6070876</td><td>0.3685554</td><td>2.776411</td></tr>\n",
       "</tbody>\n",
       "</table>\n"
      ],
      "text/latex": [
       "\\begin{tabular}{r|lllll}\n",
       "  & x & y & z & w & m\\\\\n",
       "\\hline\n",
       "\t1 & 0.3930293 & a & 2.197734 & 4.830036 & 2.924245\\\\\n",
       "\t2 & 1.916401 & a & -0.2612962 & 0.06827572 & 2.734461\\\\\n",
       "\t3 & 0.2519046 & a & -0.4501743 & 0.2026569 & 2.263554\\\\\n",
       "\t4 & 1.200362 & b & -0.04275896 & 0.001828329 & 2.622369\\\\\n",
       "\t5 & 0.894032 & b & -0.239556 & 0.05738707 & 2.499393\\\\\n",
       "\t6 & 1.308723 & b & -0.6787267 & 0.46067 & 2.493134\\\\\n",
       "\t7 & 0.3405987 & c & -0.8165903 & 0.6668197 & 2.177602\\\\\n",
       "\t8 & 0.08851183 & c & -1.726718 & 2.981555 & 1.749231\\\\\n",
       "\t9 & 1.244369 & c & 0.6070876 & 0.3685554 & 2.776411\\\\\n",
       "\\end{tabular}\n"
      ],
      "text/plain": [
       "            x y           z           w        m\n",
       "1: 0.39302934 a  2.19773420 4.830035612 2.924245\n",
       "2: 1.91640136 a -0.26129623 0.068275718 2.734461\n",
       "3: 0.25190461 a -0.45017426 0.202656867 2.263554\n",
       "4: 1.20036209 b -0.04275896 0.001828329 2.622369\n",
       "5: 0.89403198 b -0.23955599 0.057387073 2.499393\n",
       "6: 1.30872263 b -0.67872672 0.460669959 2.493134\n",
       "7: 0.34059874 c -0.81659031 0.666819741 2.177602\n",
       "8: 0.08851183 c -1.72671806 2.981555261 1.749231\n",
       "9: 1.24436872 c  0.60708764 0.368555402 2.776411"
      ]
     },
     "execution_count": 43,
     "metadata": {},
     "output_type": "execute_result"
    }
   ],
   "source": [
    "DT[,m:={tmp<-(x+z); log2(tmp+5)}]"
   ]
  },
  {
   "cell_type": "code",
   "execution_count": 44,
   "metadata": {
    "collapsed": false
   },
   "outputs": [
    {
     "data": {
      "text/html": [
       "<table>\n",
       "<thead><tr><th></th><th scope=col>x</th><th scope=col>y</th><th scope=col>z</th><th scope=col>w</th><th scope=col>m</th></tr></thead>\n",
       "<tbody>\n",
       "\t<tr><th scope=row>1</th><td>0.3930293</td><td>a</td><td>2.197734</td><td>4.830036</td><td>2.924245</td></tr>\n",
       "\t<tr><th scope=row>2</th><td>1.916401</td><td>a</td><td>-0.2612962</td><td>0.06827572</td><td>2.734461</td></tr>\n",
       "\t<tr><th scope=row>3</th><td>0.2519046</td><td>a</td><td>-0.4501743</td><td>0.2026569</td><td>2.263554</td></tr>\n",
       "\t<tr><th scope=row>4</th><td>1.200362</td><td>b</td><td>-0.04275896</td><td>0.001828329</td><td>2.622369</td></tr>\n",
       "\t<tr><th scope=row>5</th><td>0.894032</td><td>b</td><td>-0.239556</td><td>0.05738707</td><td>2.499393</td></tr>\n",
       "\t<tr><th scope=row>6</th><td>1.308723</td><td>b</td><td>-0.6787267</td><td>0.46067</td><td>2.493134</td></tr>\n",
       "</tbody>\n",
       "</table>\n"
      ],
      "text/latex": [
       "\\begin{tabular}{r|lllll}\n",
       "  & x & y & z & w & m\\\\\n",
       "\\hline\n",
       "\t1 & 0.3930293 & a & 2.197734 & 4.830036 & 2.924245\\\\\n",
       "\t2 & 1.916401 & a & -0.2612962 & 0.06827572 & 2.734461\\\\\n",
       "\t3 & 0.2519046 & a & -0.4501743 & 0.2026569 & 2.263554\\\\\n",
       "\t4 & 1.200362 & b & -0.04275896 & 0.001828329 & 2.622369\\\\\n",
       "\t5 & 0.894032 & b & -0.239556 & 0.05738707 & 2.499393\\\\\n",
       "\t6 & 1.308723 & b & -0.6787267 & 0.46067 & 2.493134\\\\\n",
       "\\end{tabular}\n"
      ],
      "text/plain": [
       "           x y           z           w        m\n",
       "1: 0.3930293 a  2.19773420 4.830035612 2.924245\n",
       "2: 1.9164014 a -0.26129623 0.068275718 2.734461\n",
       "3: 0.2519046 a -0.45017426 0.202656867 2.263554\n",
       "4: 1.2003621 b -0.04275896 0.001828329 2.622369\n",
       "5: 0.8940320 b -0.23955599 0.057387073 2.499393\n",
       "6: 1.3087226 b -0.67872672 0.460669959 2.493134"
      ]
     },
     "execution_count": 44,
     "metadata": {},
     "output_type": "execute_result"
    }
   ],
   "source": [
    "head(DT)"
   ]
  },
  {
   "cell_type": "code",
   "execution_count": 45,
   "metadata": {
    "collapsed": false
   },
   "outputs": [
    {
     "data": {
      "text/html": [
       "<table>\n",
       "<thead><tr><th></th><th scope=col>x</th><th scope=col>y</th><th scope=col>z</th><th scope=col>w</th><th scope=col>m</th><th scope=col>a</th></tr></thead>\n",
       "<tbody>\n",
       "\t<tr><th scope=row>1</th><td>0.3930293</td><td>a</td><td>2.197734</td><td>4.830036</td><td>2.924245</td><td>TRUE</td></tr>\n",
       "\t<tr><th scope=row>2</th><td>1.916401</td><td>a</td><td>-0.2612962</td><td>0.06827572</td><td>2.734461</td><td>TRUE</td></tr>\n",
       "\t<tr><th scope=row>3</th><td>0.2519046</td><td>a</td><td>-0.4501743</td><td>0.2026569</td><td>2.263554</td><td>TRUE</td></tr>\n",
       "\t<tr><th scope=row>4</th><td>1.200362</td><td>b</td><td>-0.04275896</td><td>0.001828329</td><td>2.622369</td><td>TRUE</td></tr>\n",
       "\t<tr><th scope=row>5</th><td>0.894032</td><td>b</td><td>-0.239556</td><td>0.05738707</td><td>2.499393</td><td>TRUE</td></tr>\n",
       "\t<tr><th scope=row>6</th><td>1.308723</td><td>b</td><td>-0.6787267</td><td>0.46067</td><td>2.493134</td><td>TRUE</td></tr>\n",
       "\t<tr><th scope=row>7</th><td>0.3405987</td><td>c</td><td>-0.8165903</td><td>0.6668197</td><td>2.177602</td><td>TRUE</td></tr>\n",
       "\t<tr><th scope=row>8</th><td>0.08851183</td><td>c</td><td>-1.726718</td><td>2.981555</td><td>1.749231</td><td>TRUE</td></tr>\n",
       "\t<tr><th scope=row>9</th><td>1.244369</td><td>c</td><td>0.6070876</td><td>0.3685554</td><td>2.776411</td><td>TRUE</td></tr>\n",
       "</tbody>\n",
       "</table>\n"
      ],
      "text/latex": [
       "\\begin{tabular}{r|llllll}\n",
       "  & x & y & z & w & m & a\\\\\n",
       "\\hline\n",
       "\t1 & 0.3930293 & a & 2.197734 & 4.830036 & 2.924245 & TRUE\\\\\n",
       "\t2 & 1.916401 & a & -0.2612962 & 0.06827572 & 2.734461 & TRUE\\\\\n",
       "\t3 & 0.2519046 & a & -0.4501743 & 0.2026569 & 2.263554 & TRUE\\\\\n",
       "\t4 & 1.200362 & b & -0.04275896 & 0.001828329 & 2.622369 & TRUE\\\\\n",
       "\t5 & 0.894032 & b & -0.239556 & 0.05738707 & 2.499393 & TRUE\\\\\n",
       "\t6 & 1.308723 & b & -0.6787267 & 0.46067 & 2.493134 & TRUE\\\\\n",
       "\t7 & 0.3405987 & c & -0.8165903 & 0.6668197 & 2.177602 & TRUE\\\\\n",
       "\t8 & 0.08851183 & c & -1.726718 & 2.981555 & 1.749231 & TRUE\\\\\n",
       "\t9 & 1.244369 & c & 0.6070876 & 0.3685554 & 2.776411 & TRUE\\\\\n",
       "\\end{tabular}\n"
      ],
      "text/plain": [
       "            x y           z           w        m    a\n",
       "1: 0.39302934 a  2.19773420 4.830035612 2.924245 TRUE\n",
       "2: 1.91640136 a -0.26129623 0.068275718 2.734461 TRUE\n",
       "3: 0.25190461 a -0.45017426 0.202656867 2.263554 TRUE\n",
       "4: 1.20036209 b -0.04275896 0.001828329 2.622369 TRUE\n",
       "5: 0.89403198 b -0.23955599 0.057387073 2.499393 TRUE\n",
       "6: 1.30872263 b -0.67872672 0.460669959 2.493134 TRUE\n",
       "7: 0.34059874 c -0.81659031 0.666819741 2.177602 TRUE\n",
       "8: 0.08851183 c -1.72671806 2.981555261 1.749231 TRUE\n",
       "9: 1.24436872 c  0.60708764 0.368555402 2.776411 TRUE"
      ]
     },
     "execution_count": 45,
     "metadata": {},
     "output_type": "execute_result"
    }
   ],
   "source": [
    "DT[,a:=x>0] # Plyr like operation"
   ]
  },
  {
   "cell_type": "code",
   "execution_count": 46,
   "metadata": {
    "collapsed": false
   },
   "outputs": [
    {
     "data": {
      "text/html": [
       "<table>\n",
       "<thead><tr><th></th><th scope=col>x</th><th scope=col>y</th><th scope=col>z</th><th scope=col>w</th><th scope=col>m</th><th scope=col>a</th><th scope=col>b</th></tr></thead>\n",
       "<tbody>\n",
       "\t<tr><th scope=row>1</th><td>0.3930293</td><td>a</td><td>2.197734</td><td>4.830036</td><td>2.924245</td><td>TRUE</td><td>1.919524</td></tr>\n",
       "\t<tr><th scope=row>2</th><td>1.916401</td><td>a</td><td>-0.2612962</td><td>0.06827572</td><td>2.734461</td><td>TRUE</td><td>1.919524</td></tr>\n",
       "\t<tr><th scope=row>3</th><td>0.2519046</td><td>a</td><td>-0.4501743</td><td>0.2026569</td><td>2.263554</td><td>TRUE</td><td>1.919524</td></tr>\n",
       "\t<tr><th scope=row>4</th><td>1.200362</td><td>b</td><td>-0.04275896</td><td>0.001828329</td><td>2.622369</td><td>TRUE</td><td>1.919524</td></tr>\n",
       "\t<tr><th scope=row>5</th><td>0.894032</td><td>b</td><td>-0.239556</td><td>0.05738707</td><td>2.499393</td><td>TRUE</td><td>1.919524</td></tr>\n",
       "\t<tr><th scope=row>6</th><td>1.308723</td><td>b</td><td>-0.6787267</td><td>0.46067</td><td>2.493134</td><td>TRUE</td><td>1.919524</td></tr>\n",
       "\t<tr><th scope=row>7</th><td>0.3405987</td><td>c</td><td>-0.8165903</td><td>0.6668197</td><td>2.177602</td><td>TRUE</td><td>1.919524</td></tr>\n",
       "\t<tr><th scope=row>8</th><td>0.08851183</td><td>c</td><td>-1.726718</td><td>2.981555</td><td>1.749231</td><td>TRUE</td><td>1.919524</td></tr>\n",
       "\t<tr><th scope=row>9</th><td>1.244369</td><td>c</td><td>0.6070876</td><td>0.3685554</td><td>2.776411</td><td>TRUE</td><td>1.919524</td></tr>\n",
       "</tbody>\n",
       "</table>\n"
      ],
      "text/latex": [
       "\\begin{tabular}{r|lllllll}\n",
       "  & x & y & z & w & m & a & b\\\\\n",
       "\\hline\n",
       "\t1 & 0.3930293 & a & 2.197734 & 4.830036 & 2.924245 & TRUE & 1.919524\\\\\n",
       "\t2 & 1.916401 & a & -0.2612962 & 0.06827572 & 2.734461 & TRUE & 1.919524\\\\\n",
       "\t3 & 0.2519046 & a & -0.4501743 & 0.2026569 & 2.263554 & TRUE & 1.919524\\\\\n",
       "\t4 & 1.200362 & b & -0.04275896 & 0.001828329 & 2.622369 & TRUE & 1.919524\\\\\n",
       "\t5 & 0.894032 & b & -0.239556 & 0.05738707 & 2.499393 & TRUE & 1.919524\\\\\n",
       "\t6 & 1.308723 & b & -0.6787267 & 0.46067 & 2.493134 & TRUE & 1.919524\\\\\n",
       "\t7 & 0.3405987 & c & -0.8165903 & 0.6668197 & 2.177602 & TRUE & 1.919524\\\\\n",
       "\t8 & 0.08851183 & c & -1.726718 & 2.981555 & 1.749231 & TRUE & 1.919524\\\\\n",
       "\t9 & 1.244369 & c & 0.6070876 & 0.3685554 & 2.776411 & TRUE & 1.919524\\\\\n",
       "\\end{tabular}\n"
      ],
      "text/plain": [
       "            x y           z           w        m    a        b\n",
       "1: 0.39302934 a  2.19773420 4.830035612 2.924245 TRUE 1.919524\n",
       "2: 1.91640136 a -0.26129623 0.068275718 2.734461 TRUE 1.919524\n",
       "3: 0.25190461 a -0.45017426 0.202656867 2.263554 TRUE 1.919524\n",
       "4: 1.20036209 b -0.04275896 0.001828329 2.622369 TRUE 1.919524\n",
       "5: 0.89403198 b -0.23955599 0.057387073 2.499393 TRUE 1.919524\n",
       "6: 1.30872263 b -0.67872672 0.460669959 2.493134 TRUE 1.919524\n",
       "7: 0.34059874 c -0.81659031 0.666819741 2.177602 TRUE 1.919524\n",
       "8: 0.08851183 c -1.72671806 2.981555261 1.749231 TRUE 1.919524\n",
       "9: 1.24436872 c  0.60708764 0.368555402 2.776411 TRUE 1.919524"
      ]
     },
     "execution_count": 46,
     "metadata": {},
     "output_type": "execute_result"
    }
   ],
   "source": [
    "DT[,b:=mean(x+w),by=a]"
   ]
  },
  {
   "cell_type": "code",
   "execution_count": 47,
   "metadata": {
    "collapsed": true
   },
   "outputs": [],
   "source": [
    "set.seed(123)\n",
    "DT<-data.table(x=sample(letters[1:3],1E5,TRUE))"
   ]
  },
  {
   "cell_type": "code",
   "execution_count": 48,
   "metadata": {
    "collapsed": false
   },
   "outputs": [
    {
     "data": {
      "text/html": [
       "<table>\n",
       "<thead><tr><th></th><th scope=col>x</th><th scope=col>N</th></tr></thead>\n",
       "<tbody>\n",
       "\t<tr><th scope=row>1</th><td>a</td><td>33387</td></tr>\n",
       "\t<tr><th scope=row>2</th><td>c</td><td>33201</td></tr>\n",
       "\t<tr><th scope=row>3</th><td>b</td><td>33412</td></tr>\n",
       "</tbody>\n",
       "</table>\n"
      ],
      "text/latex": [
       "\\begin{tabular}{r|ll}\n",
       "  & x & N\\\\\n",
       "\\hline\n",
       "\t1 & a & 33387\\\\\n",
       "\t2 & c & 33201\\\\\n",
       "\t3 & b & 33412\\\\\n",
       "\\end{tabular}\n"
      ],
      "text/plain": [
       "   x     N\n",
       "1: a 33387\n",
       "2: c 33201\n",
       "3: b 33412"
      ]
     },
     "execution_count": 48,
     "metadata": {},
     "output_type": "execute_result"
    }
   ],
   "source": [
    "DT[,.N,by=x]\n",
    "DT=data.table(x=rep(c(\"a\",\"b\",\"c\"),each=100),y=rnorm(300))"
   ]
  },
  {
   "cell_type": "code",
   "execution_count": 49,
   "metadata": {
    "collapsed": false
   },
   "outputs": [
    {
     "ename": "ERROR",
     "evalue": "Error in rbindlist(l, use.names, fill): Item 2 of list input is not a data.frame, data.table or list\n",
     "output_type": "error",
     "traceback": [
      "Error in rbindlist(l, use.names, fill): Item 2 of list input is not a data.frame, data.table or list\n"
     ]
    },
    {
     "data": {
      "text/plain": [
       "     x           y\n",
       "  1: a  0.25958973\n",
       "  2: a  0.91751072\n",
       "  3: a -0.72231834\n",
       "  4: a -0.80828402\n",
       "  5: a -0.14135202\n",
       "  6: a  2.25701345\n",
       "  7: a -2.37955015\n",
       "  8: a -0.45425393\n",
       "  9: a -0.06007418\n",
       " 10: a  0.86090061\n",
       " 11: a -1.78466393\n",
       " 12: a -0.13074225\n",
       " 13: a -0.36983749\n",
       " 14: a -0.18065990\n",
       " 15: a -1.04973030\n",
       " 16: a  0.37831550\n",
       " 17: a -1.37079353\n",
       " 18: a -0.31611578\n",
       " 19: a  0.39435003\n",
       " 20: a -1.68987831\n",
       " 21: a -1.46233527\n",
       " 22: a  2.55837664\n",
       " 23: a  0.08788697\n",
       " 24: a  1.73141492\n",
       " 25: a  1.21512638\n",
       " 26: a  0.29954390\n",
       " 27: a -0.17245754\n",
       " 28: a  1.13249663\n",
       " 29: a  0.02319828\n",
       " 30: a  1.33587399\n",
       " 31: a -1.09879007\n",
       " 32: a -0.58176064\n",
       " 33: a  0.03892452\n",
       " 34: a  1.07315441\n",
       " 35: a  1.34969593\n",
       " 36: a  1.19527937\n",
       " 37: a -0.02217912\n",
       " 38: a  0.69849448\n",
       " 39: a  0.67240626\n",
       " 40: a -0.79164585\n",
       " 41: a -0.21790545\n",
       " 42: a  0.02307037\n",
       " 43: a  0.11539395\n",
       " 44: a -0.27708029\n",
       " 45: a  0.03688377\n",
       " 46: a  0.47520014\n",
       " 47: a  1.70748924\n",
       " 48: a  1.07600560\n",
       " 49: a -1.34571320\n",
       " 50: a -1.44024891\n",
       " 51: a -0.39392783\n",
       " 52: a  0.58106297\n",
       " 53: a -0.17078819\n",
       " 54: a -0.90585446\n",
       " 55: a  0.15621346\n",
       " 56: a -0.37322530\n",
       " 57: a -0.34587104\n",
       " 58: a -0.35828720\n",
       " 59: a -0.13306601\n",
       " 60: a -0.08959642\n",
       " 61: a  0.62793032\n",
       " 62: a -1.42882873\n",
       " 63: a  0.17255399\n",
       " 64: a -0.79115025\n",
       " 65: a  1.26204078\n",
       " 66: a -0.26940548\n",
       " 67: a  0.15698296\n",
       " 68: a -0.76059823\n",
       " 69: a  1.37060069\n",
       " 70: a  0.03758155\n",
       " 71: a  0.44949417\n",
       " 72: a  2.78868764\n",
       " 73: a -0.46848614\n",
       " 74: a  1.01260608\n",
       " 75: a -0.04374086\n",
       " 76: a  1.40669725\n",
       " 77: a  0.41992874\n",
       " 78: a  0.31008615\n",
       " 79: a  1.11904687\n",
       " 80: a -1.29814018\n",
       " 81: a -1.28248182\n",
       " 82: a  1.65942788\n",
       " 83: a  0.78374544\n",
       " 84: a  0.57771022\n",
       " 85: a -0.26724640\n",
       " 86: a -0.64569141\n",
       " 87: a -0.44952912\n",
       " 88: a -0.82619821\n",
       " 89: a  1.05503854\n",
       " 90: a -0.87926983\n",
       " 91: a -1.27712832\n",
       " 92: a -0.63412243\n",
       " 93: a  0.66470047\n",
       " 94: a -0.50958183\n",
       " 95: a  0.40736335\n",
       " 96: a  1.67774776\n",
       " 97: a -1.05205570\n",
       " 98: a -0.63690737\n",
       " 99: a  0.56539163\n",
       "100: a  0.38015779\n",
       "     x           y"
      ]
     },
     "execution_count": 49,
     "metadata": {},
     "output_type": "execute_result"
    }
   ],
   "source": [
    "setkey(DT,x)\n",
    "DT['a']"
   ]
  },
  {
   "cell_type": "code",
   "execution_count": 51,
   "metadata": {
    "collapsed": false
   },
   "outputs": [
    {
     "data": {
      "text/html": [
       "<table>\n",
       "<thead><tr><th></th><th scope=col>x</th><th scope=col>y</th></tr></thead>\n",
       "<tbody>\n",
       "\t<tr><th scope=row>1</th><td>a</td><td>1</td></tr>\n",
       "\t<tr><th scope=row>2</th><td>a</td><td>2</td></tr>\n",
       "\t<tr><th scope=row>3</th><td>b</td><td>3</td></tr>\n",
       "\t<tr><th scope=row>4</th><td>dt1</td><td>4</td></tr>\n",
       "</tbody>\n",
       "</table>\n"
      ],
      "text/latex": [
       "\\begin{tabular}{r|ll}\n",
       "  & x & y\\\\\n",
       "\\hline\n",
       "\t1 & a & 1\\\\\n",
       "\t2 & a & 2\\\\\n",
       "\t3 & b & 3\\\\\n",
       "\t4 & dt1 & 4\\\\\n",
       "\\end{tabular}\n"
      ],
      "text/plain": [
       "     x y\n",
       "1:   a 1\n",
       "2:   a 2\n",
       "3:   b 3\n",
       "4: dt1 4"
      ]
     },
     "execution_count": 51,
     "metadata": {},
     "output_type": "execute_result"
    },
    {
     "data": {
      "text/html": [
       "<table>\n",
       "<thead><tr><th></th><th scope=col>x</th><th scope=col>y</th></tr></thead>\n",
       "<tbody>\n",
       "\t<tr><th scope=row>1</th><td>a</td><td>5</td></tr>\n",
       "\t<tr><th scope=row>2</th><td>b</td><td>6</td></tr>\n",
       "\t<tr><th scope=row>3</th><td>dt2</td><td>7</td></tr>\n",
       "</tbody>\n",
       "</table>\n"
      ],
      "text/latex": [
       "\\begin{tabular}{r|ll}\n",
       "  & x & y\\\\\n",
       "\\hline\n",
       "\t1 & a & 5\\\\\n",
       "\t2 & b & 6\\\\\n",
       "\t3 & dt2 & 7\\\\\n",
       "\\end{tabular}\n"
      ],
      "text/plain": [
       "     x y\n",
       "1:   a 5\n",
       "2:   b 6\n",
       "3: dt2 7"
      ]
     },
     "execution_count": 51,
     "metadata": {},
     "output_type": "execute_result"
    },
    {
     "data": {
      "text/html": [
       "<table>\n",
       "<thead><tr><th></th><th scope=col>x</th><th scope=col>y.x</th><th scope=col>y.y</th></tr></thead>\n",
       "<tbody>\n",
       "\t<tr><th scope=row>1</th><td>a</td><td>1</td><td>5</td></tr>\n",
       "\t<tr><th scope=row>2</th><td>a</td><td>2</td><td>5</td></tr>\n",
       "\t<tr><th scope=row>3</th><td>b</td><td>3</td><td>6</td></tr>\n",
       "</tbody>\n",
       "</table>\n"
      ],
      "text/latex": [
       "\\begin{tabular}{r|lll}\n",
       "  & x & y.x & y.y\\\\\n",
       "\\hline\n",
       "\t1 & a & 1 & 5\\\\\n",
       "\t2 & a & 2 & 5\\\\\n",
       "\t3 & b & 3 & 6\\\\\n",
       "\\end{tabular}\n"
      ],
      "text/plain": [
       "   x y.x y.y\n",
       "1: a   1   5\n",
       "2: a   2   5\n",
       "3: b   3   6"
      ]
     },
     "execution_count": 51,
     "metadata": {},
     "output_type": "execute_result"
    }
   ],
   "source": [
    "DT1<-data.table(x=c('a','a','b','dt1'),y=1:4)\n",
    "DT1\n",
    "DT2<-data.table(x=c('a','b','dt2'),y=5:7)\n",
    "DT2\n",
    "setkey(DT1,x); setkey(DT2,x)\n",
    "merge(DT1,DT2)"
   ]
  },
  {
   "cell_type": "code",
   "execution_count": 52,
   "metadata": {
    "collapsed": true
   },
   "outputs": [],
   "source": [
    "fileUrl <- \"https://d396qusza40orc.cloudfront.net/getdata%2Fdata%2Fss06hid.csv\"\n",
    "if(!file.exists('./data/hid.csv')) {\n",
    "    download.file(fileUrl, destfile = \"./data/hid.csv\", method = \"curl\")\n",
    "    dateDownloaded <- date()\n",
    "    \n",
    "}\n",
    "hidData <- read.table(\"./data/hid.csv\",sep=\",\",header=TRUE)\n",
    "DT=data.table(hidData)"
   ]
  },
  {
   "cell_type": "code",
   "execution_count": 53,
   "metadata": {
    "collapsed": false
   },
   "outputs": [
    {
     "data": {
      "text/html": [
       "53"
      ],
      "text/latex": [
       "53"
      ],
      "text/markdown": [
       "53"
      ],
      "text/plain": [
       "[1] 53"
      ]
     },
     "execution_count": 53,
     "metadata": {},
     "output_type": "execute_result"
    }
   ],
   "source": [
    "# TYPE=1, VAL=24\n",
    "nrow(DT[DT$VAL==24 & DT$TYPE==1])"
   ]
  },
  {
   "cell_type": "markdown",
   "metadata": {},
   "source": [
    "----"
   ]
  },
  {
   "cell_type": "code",
   "execution_count": null,
   "metadata": {
    "collapsed": true
   },
   "outputs": [],
   "source": [
    "library(xlsx)"
   ]
  },
  {
   "cell_type": "code",
   "execution_count": 6,
   "metadata": {
    "collapsed": false
   },
   "outputs": [],
   "source": [
    "if(!file.exists(\"./data/lala.xlsx\")) {\n",
    "    fileurl<-\"https://d396qusza40orc.cloudfront.net/getdata%2Fdata%2FDATA.gov_NGAP.xlsx\"\n",
    "    download.file(fileurl,destfile=\"./data/lala.xlsx\",method=\"curl\")\n",
    "    dateDownloaded <- date()\n",
    "}\n",
    "lala<-read.xlsx(\"./data/lala.xlsx\",sheetIndex=1,header=TRUE)"
   ]
  },
  {
   "cell_type": "code",
   "execution_count": 7,
   "metadata": {
    "collapsed": false
   },
   "outputs": [
    {
     "data": {
      "text/html": [
       "<table>\n",
       "<thead><tr><th></th><th scope=col>Table.Name..Contract</th><th scope=col>NA.</th><th scope=col>NA..1</th><th scope=col>NA..2</th><th scope=col>NA..3</th><th scope=col>NA..4</th><th scope=col>NA..5</th><th scope=col>NA..6</th><th scope=col>NA..7</th><th scope=col>NA..8</th><th scope=col>ellip.h</th><th scope=col>NA..15</th><th scope=col>NA..16</th><th scope=col>NA..17</th><th scope=col>NA..18</th><th scope=col>NA..19</th><th scope=col>NA..20</th><th scope=col>NA..21</th><th scope=col>NA..22</th><th scope=col>NA..23</th><th scope=col>NA..24</th></tr></thead>\n",
       "<tbody>\n",
       "\t<tr><th scope=row>1</th><td>ContractNumber</td><td>ContractorId</td><td>ExpiryDate</td><td>CFileName</td><td>ReactivationDt</td><td>NA</td><td>NA</td><td>NA</td><td>NA</td><td>NA</td><td><U+22EF></td><td>NA</td><td>NA</td><td>NA</td><td>NA</td><td>NA</td><td>NA</td><td>NA</td><td>NA</td><td>NA</td><td>NA</td></tr>\n",
       "\t<tr><th scope=row>2</th><td>GS-00P-02-BSC-0201</td><td>23</td><td>2004-09-30 00:00:00</td><td>NA</td><td>2004-09-30 00:00:00</td><td>NA</td><td>NA</td><td>NA</td><td>NA</td><td>NA</td><td><U+22EF></td><td>NA</td><td>NA</td><td>NA</td><td>NA</td><td>NA</td><td>NA</td><td>NA</td><td>NA</td><td>NA</td><td>NA</td></tr>\n",
       "\t<tr><th scope=row>3</th><td>GS-00P-02-BSC-0204</td><td>5</td><td>2003-10-31 00:00:00</td><td>NULL</td><td>NULL</td><td>NA</td><td>NA</td><td>NA</td><td>NA</td><td>NA</td><td><U+22EF></td><td>NA</td><td>NA</td><td>NA</td><td>NA</td><td>NA</td><td>NA</td><td>NA</td><td>NA</td><td>NA</td><td>NA</td></tr>\n",
       "\t<tr><th scope=row>4</th><td>GS-00P-02-BSC-0206</td><td>6</td><td>2004-10-31 00:00:00</td><td>NA</td><td>2004-11-02 00:00:00</td><td>NA</td><td>NA</td><td>NA</td><td>NA</td><td>NA</td><td><U+22EF></td><td>NA</td><td>NA</td><td>NA</td><td>NA</td><td>NA</td><td>NA</td><td>NA</td><td>NA</td><td>NA</td><td>NA</td></tr>\n",
       "\t<tr><th scope=row>5</th><td>GS-00P-02-BSC-0207</td><td>4</td><td>2006-10-31 00:00:00</td><td>NA</td><td>2004-11-01 00:00:00</td><td>NA</td><td>NA</td><td>NA</td><td>NA</td><td>NA</td><td><U+22EF></td><td>NA</td><td>NA</td><td>NA</td><td>NA</td><td>NA</td><td>NA</td><td>NA</td><td>NA</td><td>NA</td><td>NA</td></tr>\n",
       "\t<tr><th scope=row>6</th><td>GS-00P-02-BSC-0209</td><td>7</td><td>2004-10-31 00:00:00</td><td>NA</td><td>2004-11-01 00:00:00</td><td>NA</td><td>NA</td><td>NA</td><td>NA</td><td>NA</td><td><U+22EF></td><td>NA</td><td>NA</td><td>NA</td><td>NA</td><td>NA</td><td>NA</td><td>NA</td><td>NA</td><td>NA</td><td>NA</td></tr>\n",
       "</tbody>\n",
       "</table>\n"
      ],
      "text/latex": [
       "\\begin{tabular}{r|llllllllllllllllllllllllll}\n",
       "  & Table.Name..Contract & NA. & NA..1 & NA..2 & NA..3 & NA..4 & NA..5 & NA..6 & NA..7 & NA..8 & ellip.h & NA..15 & NA..16 & NA..17 & NA..18 & NA..19 & NA..20 & NA..21 & NA..22 & NA..23 & NA..24\\\\\n",
       "\\hline\n",
       "\t1 & ContractNumber & ContractorId & ExpiryDate & CFileName & ReactivationDt & NA & NA & NA & NA & NA & <U+22EF> & NA & NA & NA & NA & NA & NA & NA & NA & NA & NA\\\\\n",
       "\t2 & GS-00P-02-BSC-0201 & 23 & 2004-09-30 00:00:00 & NA & 2004-09-30 00:00:00 & NA & NA & NA & NA & NA & <U+22EF> & NA & NA & NA & NA & NA & NA & NA & NA & NA & NA\\\\\n",
       "\t3 & GS-00P-02-BSC-0204 & 5 & 2003-10-31 00:00:00 & NULL & NULL & NA & NA & NA & NA & NA & <U+22EF> & NA & NA & NA & NA & NA & NA & NA & NA & NA & NA\\\\\n",
       "\t4 & GS-00P-02-BSC-0206 & 6 & 2004-10-31 00:00:00 & NA & 2004-11-02 00:00:00 & NA & NA & NA & NA & NA & <U+22EF> & NA & NA & NA & NA & NA & NA & NA & NA & NA & NA\\\\\n",
       "\t5 & GS-00P-02-BSC-0207 & 4 & 2006-10-31 00:00:00 & NA & 2004-11-01 00:00:00 & NA & NA & NA & NA & NA & <U+22EF> & NA & NA & NA & NA & NA & NA & NA & NA & NA & NA\\\\\n",
       "\t6 & GS-00P-02-BSC-0209 & 7 & 2004-10-31 00:00:00 & NA & 2004-11-01 00:00:00 & NA & NA & NA & NA & NA & <U+22EF> & NA & NA & NA & NA & NA & NA & NA & NA & NA & NA\\\\\n",
       "\\end{tabular}\n"
      ],
      "text/plain": [
       "  Table.Name..Contract          NA.               NA..1     NA..2\n",
       "1       ContractNumber ContractorId          ExpiryDate CFileName\n",
       "2   GS-00P-02-BSC-0201           23 2004-09-30 00:00:00      <NA>\n",
       "3   GS-00P-02-BSC-0204            5 2003-10-31 00:00:00      NULL\n",
       "4   GS-00P-02-BSC-0206            6 2004-10-31 00:00:00      <NA>\n",
       "5   GS-00P-02-BSC-0207            4 2006-10-31 00:00:00      <NA>\n",
       "6   GS-00P-02-BSC-0209            7 2004-10-31 00:00:00      <NA>\n",
       "                NA..3 NA..4 NA..5 NA..6 NA..7 NA..8 NA..9 NA..10 NA..11 NA..12\n",
       "1      ReactivationDt  <NA>  <NA>  <NA>  <NA>  <NA>  <NA>   <NA>   <NA>   <NA>\n",
       "2 2004-09-30 00:00:00  <NA>  <NA>  <NA>  <NA>  <NA>  <NA>   <NA>   <NA>   <NA>\n",
       "3                NULL  <NA>  <NA>  <NA>  <NA>  <NA>  <NA>   <NA>   <NA>   <NA>\n",
       "4 2004-11-02 00:00:00  <NA>  <NA>  <NA>  <NA>  <NA>  <NA>   <NA>   <NA>   <NA>\n",
       "5 2004-11-01 00:00:00  <NA>  <NA>  <NA>  <NA>  <NA>  <NA>   <NA>   <NA>   <NA>\n",
       "6 2004-11-01 00:00:00  <NA>  <NA>  <NA>  <NA>  <NA>  <NA>   <NA>   <NA>   <NA>\n",
       "  NA..13 NA..14 NA..15 NA..16 NA..17 NA..18 NA..19 NA..20 NA..21 NA..22 NA..23\n",
       "1   <NA>   <NA>   <NA>   <NA>   <NA>   <NA>   <NA>   <NA>   <NA>   <NA>   <NA>\n",
       "2   <NA>   <NA>   <NA>   <NA>   <NA>   <NA>   <NA>   <NA>   <NA>   <NA>   <NA>\n",
       "3   <NA>   <NA>   <NA>   <NA>   <NA>   <NA>   <NA>   <NA>   <NA>   <NA>   <NA>\n",
       "4   <NA>   <NA>   <NA>   <NA>   <NA>   <NA>   <NA>   <NA>   <NA>   <NA>   <NA>\n",
       "5   <NA>   <NA>   <NA>   <NA>   <NA>   <NA>   <NA>   <NA>   <NA>   <NA>   <NA>\n",
       "6   <NA>   <NA>   <NA>   <NA>   <NA>   <NA>   <NA>   <NA>   <NA>   <NA>   <NA>\n",
       "  NA..24\n",
       "1   <NA>\n",
       "2   <NA>\n",
       "3   <NA>\n",
       "4   <NA>\n",
       "5   <NA>\n",
       "6   <NA>"
      ]
     },
     "execution_count": 7,
     "metadata": {},
     "output_type": "execute_result"
    }
   ],
   "source": [
    "head(lala)"
   ]
  },
  {
   "cell_type": "code",
   "execution_count": 8,
   "metadata": {
    "collapsed": false
   },
   "outputs": [
    {
     "data": {
      "text/html": [
       "<table>\n",
       "<thead><tr><th></th><th scope=col>Zip</th><th scope=col>CuCurrent</th><th scope=col>PaCurrent</th><th scope=col>PoCurrent</th><th scope=col>Contact</th><th scope=col>Ext</th><th scope=col>Fax</th><th scope=col>email</th><th scope=col>Status</th></tr></thead>\n",
       "<tbody>\n",
       "\t<tr><th scope=row>1</th><td>74136</td><td>0</td><td>1</td><td>0</td><td>918-491-6998</td><td>0</td><td>918-491-6659</td><td>NA</td><td>1</td></tr>\n",
       "\t<tr><th scope=row>2</th><td>30329</td><td>1</td><td>0</td><td>0</td><td>404-321-5711</td><td>NA</td><td>NA</td><td>NA</td><td>1</td></tr>\n",
       "\t<tr><th scope=row>3</th><td>74136</td><td>1</td><td>0</td><td>0</td><td>918-523-2516</td><td>0</td><td>918-523-2522</td><td>NA</td><td>1</td></tr>\n",
       "\t<tr><th scope=row>4</th><td>80203</td><td>0</td><td>1</td><td>0</td><td>303-864-1919</td><td>0</td><td>NA</td><td>NA</td><td>1</td></tr>\n",
       "\t<tr><th scope=row>5</th><td>80120</td><td>1</td><td>0</td><td>0</td><td>345-098-8890</td><td>456</td><td>NA</td><td>NA</td><td>1</td></tr>\n",
       "</tbody>\n",
       "</table>\n"
      ],
      "text/latex": [
       "\\begin{tabular}{r|lllllllll}\n",
       "  & Zip & CuCurrent & PaCurrent & PoCurrent & Contact & Ext & Fax & email & Status\\\\\n",
       "\\hline\n",
       "\t1 & 74136 & 0 & 1 & 0 & 918-491-6998 & 0 & 918-491-6659 & NA & 1\\\\\n",
       "\t2 & 30329 & 1 & 0 & 0 & 404-321-5711 & NA & NA & NA & 1\\\\\n",
       "\t3 & 74136 & 1 & 0 & 0 & 918-523-2516 & 0 & 918-523-2522 & NA & 1\\\\\n",
       "\t4 & 80203 & 0 & 1 & 0 & 303-864-1919 & 0 & NA & NA & 1\\\\\n",
       "\t5 & 80120 & 1 & 0 & 0 & 345-098-8890 & 456 & NA & NA & 1\\\\\n",
       "\\end{tabular}\n"
      ],
      "text/plain": [
       "    Zip CuCurrent PaCurrent PoCurrent      Contact Ext          Fax email\n",
       "1 74136         0         1         0 918-491-6998   0 918-491-6659    NA\n",
       "2 30329         1         0         0 404-321-5711  NA         <NA>    NA\n",
       "3 74136         1         0         0 918-523-2516   0 918-523-2522    NA\n",
       "4 80203         0         1         0 303-864-1919   0         <NA>    NA\n",
       "5 80120         1         0         0 345-098-8890 456         <NA>    NA\n",
       "  Status\n",
       "1      1\n",
       "2      1\n",
       "3      1\n",
       "4      1\n",
       "5      1"
      ]
     },
     "execution_count": 8,
     "metadata": {},
     "output_type": "execute_result"
    }
   ],
   "source": [
    "rowIndex<-18:23\n",
    "colIndex<-7:15\n",
    "dat<-read.xlsx(\"./data/lala.xlsx\",sheetIndex=1, colIndex=colIndex, rowIndex=rowIndex)\n",
    "head(dat)"
   ]
  },
  {
   "cell_type": "code",
   "execution_count": 9,
   "metadata": {
    "collapsed": false
   },
   "outputs": [
    {
     "data": {
      "text/html": [
       "36534720"
      ],
      "text/latex": [
       "36534720"
      ],
      "text/markdown": [
       "36534720"
      ],
      "text/plain": [
       "[1] 36534720"
      ]
     },
     "execution_count": 9,
     "metadata": {},
     "output_type": "execute_result"
    }
   ],
   "source": [
    "sum(dat$Zip*dat$Ext,na.rm=T) "
   ]
  },
  {
   "cell_type": "code",
   "execution_count": 19,
   "metadata": {
    "collapsed": false
   },
   "outputs": [],
   "source": [
    "library(XML)"
   ]
  },
  {
   "cell_type": "code",
   "execution_count": 11,
   "metadata": {
    "collapsed": true
   },
   "outputs": [],
   "source": [
    "fileurl<-\"https://d396qusza40orc.cloudfront.net/getdata%2Fdata%2Frestaurants.xml\"\n",
    "if(!file.exists('./data/balt.xml')) {\n",
    "    download.file(fileurl,destfile=\"./data/balt.xml\",method=\"curl\")\n",
    "    dateDownloaded <- date()\n",
    "}\n",
    "doc<-xmlTreeParse(\"./data/balt.xml\",useInternal=TRUE)"
   ]
  },
  {
   "cell_type": "code",
   "execution_count": 12,
   "metadata": {
    "collapsed": true
   },
   "outputs": [],
   "source": [
    "rootNode<-xmlRoot(doc)"
   ]
  },
  {
   "cell_type": "code",
   "execution_count": 18,
   "metadata": {
    "collapsed": false
   },
   "outputs": [
    {
     "data": {
      "text/html": [
       "127"
      ],
      "text/latex": [
       "127"
      ],
      "text/markdown": [
       "127"
      ],
      "text/plain": [
       "[1] 127"
      ]
     },
     "execution_count": 18,
     "metadata": {},
     "output_type": "execute_result"
    }
   ],
   "source": [
    "#zipcode=21231\n",
    "nrow(data.frame(xpathSApply(rootNode,\"/response/row/row[zipcode='21231']/name\",xmlValue)))"
   ]
  },
  {
   "cell_type": "markdown",
   "metadata": {},
   "source": [
    "----"
   ]
  },
  {
   "cell_type": "code",
   "execution_count": 20,
   "metadata": {
    "collapsed": true
   },
   "outputs": [],
   "source": [
    "library(data.table)\n",
    "if(!file.exists('./data/pid.csv')) {\n",
    "    fileUrl <- \"https://d396qusza40orc.cloudfront.net/getdata%2Fdata%2Fss06pid.csv\"\n",
    "    download.file(fileUrl, destfile = \"./data/pid.csv\", method = \"curl\")\n",
    "    dateDownloaded <- date()\n",
    "}\n",
    "\n",
    "hidData <- read.table(\"./data/pid.csv\",sep=\",\",header=TRUE)\n",
    "DT=data.table(hidData)"
   ]
  },
  {
   "cell_type": "code",
   "execution_count": 26,
   "metadata": {
    "collapsed": false
   },
   "outputs": [
    {
     "data": {
      "text/html": [
       "<ol class=list-inline>\n",
       "\t<li>14931</li>\n",
       "\t<li>239</li>\n",
       "</ol>\n"
      ],
      "text/latex": [
       "\\begin{enumerate*}\n",
       "\\item 14931\n",
       "\\item 239\n",
       "\\end{enumerate*}\n"
      ],
      "text/markdown": [
       "1. 14931\n",
       "2. 239\n",
       "\n",
       "\n"
      ],
      "text/plain": [
       "[1] 14931   239"
      ]
     },
     "execution_count": 26,
     "metadata": {},
     "output_type": "execute_result"
    }
   ],
   "source": [
    "dim(hidData)"
   ]
  },
  {
   "cell_type": "code",
   "execution_count": 21,
   "metadata": {
    "collapsed": false
   },
   "outputs": [
    {
     "data": {
      "text/plain": [
       "   user  system elapsed \n",
       "  0.002   0.000   0.002 "
      ]
     },
     "execution_count": 21,
     "metadata": {},
     "output_type": "execute_result"
    }
   ],
   "source": [
    "system.time(tapply(DT$pwgtp15,DT$SEX,mean))"
   ]
  },
  {
   "cell_type": "code",
   "execution_count": 22,
   "metadata": {
    "collapsed": false
   },
   "outputs": [
    {
     "data": {
      "text/plain": [
       "   user  system elapsed \n",
       "  0.005   0.000   0.005 "
      ]
     },
     "execution_count": 22,
     "metadata": {},
     "output_type": "execute_result"
    }
   ],
   "source": [
    "system.time(DT[,mean(pwgtp15),by=SEX])"
   ]
  },
  {
   "cell_type": "code",
   "execution_count": 28,
   "metadata": {
    "collapsed": false
   },
   "outputs": [
    {
     "data": {
      "text/plain": [
       "   user  system elapsed \n",
       "   0.02    0.00    0.02 "
      ]
     },
     "execution_count": 28,
     "metadata": {},
     "output_type": "execute_result"
    }
   ],
   "source": [
    "system.time(mean(DT[DT$SEX==1,]$pwgtp15))"
   ]
  },
  {
   "cell_type": "code",
   "execution_count": 29,
   "metadata": {
    "collapsed": false
   },
   "outputs": [
    {
     "data": {
      "text/plain": [
       "   user  system elapsed \n",
       "  0.021   0.000   0.022 "
      ]
     },
     "execution_count": 29,
     "metadata": {},
     "output_type": "execute_result"
    }
   ],
   "source": [
    "system.time(mean(DT[DT$SEX==2,]$pwgtp15))"
   ]
  },
  {
   "cell_type": "code",
   "execution_count": 30,
   "metadata": {
    "collapsed": false
   },
   "outputs": [
    {
     "data": {
      "text/plain": [
       "   user  system elapsed \n",
       "  0.001   0.000   0.001 "
      ]
     },
     "execution_count": 30,
     "metadata": {},
     "output_type": "execute_result"
    }
   ],
   "source": [
    "system.time(sapply(split(DT$pwgtp15,DT$SEX),mean))"
   ]
  }
 ],
 "metadata": {
  "kernelspec": {
   "display_name": "R",
   "language": "R",
   "name": "ir"
  },
  "language_info": {
   "codemirror_mode": "r",
   "file_extension": ".r",
   "mimetype": "text/x-r-source",
   "name": "R",
   "pygments_lexer": "r",
   "version": "3.2.0"
  }
 },
 "nbformat": 4,
 "nbformat_minor": 0
}
